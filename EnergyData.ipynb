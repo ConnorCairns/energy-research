{
 "cells": [
  {
   "cell_type": "code",
   "execution_count": 1,
   "id": "outstanding-tolerance",
   "metadata": {},
   "outputs": [],
   "source": [
    "import pandas as pd\n",
    "import glob\n",
    "import os\n",
    "import csv\n",
    "from datetime import datetime, timedelta\n",
    "import json\n",
    "from IPython.display import display, HTML"
   ]
  },
  {
   "cell_type": "code",
   "execution_count": null,
   "id": "collect-albert",
   "metadata": {},
   "outputs": [],
   "source": [
    "df = pd.read_csv('test.csv', names=['datetime', 'power'], dtype={'datetime': \"string\", \"power\": float}, usecols=(0, 1), low_memory=False)\n",
    "df['datetime'] = pd.to_datetime(df['datetime'])\n",
    "df.set_index('datetime', inplace=True)"
   ]
  },
  {
   "cell_type": "code",
   "execution_count": 2,
   "id": "junior-brisbane",
   "metadata": {},
   "outputs": [
    {
     "data": {
      "text/plain": [
       "['power/power_log_2022-05-06.csv',\n",
       " 'power/power_log_2022-06-09.csv',\n",
       " 'power/power_log_2022-05-26.csv',\n",
       " 'power/power_log_2022-05-05.csv',\n",
       " 'power/power_log_2022-06-07.csv',\n",
       " 'power/power_log_2022-05-23.csv',\n",
       " 'power/power_log_2022-06-13.csv',\n",
       " 'power/power_log_2022-06-01.csv',\n",
       " 'power/power_log_2022-05-03.csv']"
      ]
     },
     "execution_count": 2,
     "metadata": {},
     "output_type": "execute_result"
    }
   ],
   "source": [
    "power_logs = glob.glob(\"power/power_log*.csv\")\n",
    "power_logs"
   ]
  },
  {
   "cell_type": "code",
   "execution_count": null,
   "id": "german-gardening",
   "metadata": {},
   "outputs": [
    {
     "name": "stdout",
     "output_type": "stream",
     "text": [
      "working on power/power_log_2022-05-06.csv\n",
      "added power/power_log_2022-05-06.csv\n",
      "working on power/power_log_2022-06-09.csv\n",
      "added power/power_log_2022-06-09.csv\n",
      "working on power/power_log_2022-05-26.csv\n",
      "added power/power_log_2022-05-26.csv\n",
      "working on power/power_log_2022-05-05.csv\n",
      "added power/power_log_2022-05-05.csv\n",
      "working on power/power_log_2022-06-07.csv\n",
      "added power/power_log_2022-06-07.csv\n",
      "working on power/power_log_2022-05-23.csv\n",
      "added power/power_log_2022-05-23.csv\n",
      "working on power/power_log_2022-06-13.csv\n",
      "added power/power_log_2022-06-13.csv\n",
      "working on power/power_log_2022-06-01.csv\n",
      "added power/power_log_2022-06-01.csv\n",
      "working on power/power_log_2022-05-03.csv\n"
     ]
    }
   ],
   "source": [
    "power_logs_list = []\n",
    "\n",
    "for power_log in power_logs:\n",
    "    print(f\"working on {power_log}\")\n",
    "    df = pd.read_csv(power_log, sep=',', names=['datetime', 'power'], dtype={'datetime': \"string\", \"power\": float}, usecols=(0, 1), low_memory=False)\n",
    "    power_logs_list.append(df)\n",
    "    print(f\"added {power_log}\")"
   ]
  },
  {
   "cell_type": "code",
   "execution_count": 3,
   "id": "satisfied-backup",
   "metadata": {},
   "outputs": [],
   "source": [
    "# df = pd.read_csv('power/power_log_2022-05-06.csv', names=['datetime', 'power'], dtype={'datetime': \"string\", \"power\": float}, usecols=(0, 1), low_memory=False)\n",
    "df = pd.read_csv('power/power_log_2022-05-05.csv', names=['datetime', 'power'], dtype={'datetime': \"string\", \"power\": float}, usecols=(0, 1), low_memory=False)\n",
    "df['datetime'] = pd.to_datetime(df['datetime'])\n",
    "df.set_index('datetime', inplace=True)"
   ]
  },
  {
   "cell_type": "code",
   "execution_count": 4,
   "id": "natural-death",
   "metadata": {},
   "outputs": [
    {
     "data": {
      "text/html": [
       "<div>\n",
       "<style scoped>\n",
       "    .dataframe tbody tr th:only-of-type {\n",
       "        vertical-align: middle;\n",
       "    }\n",
       "\n",
       "    .dataframe tbody tr th {\n",
       "        vertical-align: top;\n",
       "    }\n",
       "\n",
       "    .dataframe thead th {\n",
       "        text-align: right;\n",
       "    }\n",
       "</style>\n",
       "<table border=\"1\" class=\"dataframe\">\n",
       "  <thead>\n",
       "    <tr style=\"text-align: right;\">\n",
       "      <th></th>\n",
       "      <th>power</th>\n",
       "    </tr>\n",
       "    <tr>\n",
       "      <th>datetime</th>\n",
       "      <th></th>\n",
       "    </tr>\n",
       "  </thead>\n",
       "  <tbody>\n",
       "    <tr>\n",
       "      <th>2022-02-14 15:05:56.374</th>\n",
       "      <td>115.90</td>\n",
       "    </tr>\n",
       "    <tr>\n",
       "      <th>2022-02-14 15:05:56.865</th>\n",
       "      <td>116.25</td>\n",
       "    </tr>\n",
       "    <tr>\n",
       "      <th>2022-02-14 15:05:57.344</th>\n",
       "      <td>116.15</td>\n",
       "    </tr>\n",
       "    <tr>\n",
       "      <th>2022-02-14 15:05:57.826</th>\n",
       "      <td>115.83</td>\n",
       "    </tr>\n",
       "    <tr>\n",
       "      <th>2022-02-14 15:05:58.305</th>\n",
       "      <td>115.25</td>\n",
       "    </tr>\n",
       "    <tr>\n",
       "      <th>...</th>\n",
       "      <td>...</td>\n",
       "    </tr>\n",
       "    <tr>\n",
       "      <th>2022-05-05 10:47:11.464</th>\n",
       "      <td>187.25</td>\n",
       "    </tr>\n",
       "    <tr>\n",
       "      <th>2022-05-05 10:47:12.333</th>\n",
       "      <td>187.25</td>\n",
       "    </tr>\n",
       "    <tr>\n",
       "      <th>2022-05-05 10:47:13.177</th>\n",
       "      <td>187.28</td>\n",
       "    </tr>\n",
       "    <tr>\n",
       "      <th>2022-05-05 10:47:13.657</th>\n",
       "      <td>187.36</td>\n",
       "    </tr>\n",
       "    <tr>\n",
       "      <th>2022-05-05 10:47:14.137</th>\n",
       "      <td>186.41</td>\n",
       "    </tr>\n",
       "  </tbody>\n",
       "</table>\n",
       "<p>5267641 rows × 1 columns</p>\n",
       "</div>"
      ],
      "text/plain": [
       "                          power\n",
       "datetime                       \n",
       "2022-02-14 15:05:56.374  115.90\n",
       "2022-02-14 15:05:56.865  116.25\n",
       "2022-02-14 15:05:57.344  116.15\n",
       "2022-02-14 15:05:57.826  115.83\n",
       "2022-02-14 15:05:58.305  115.25\n",
       "...                         ...\n",
       "2022-05-05 10:47:11.464  187.25\n",
       "2022-05-05 10:47:12.333  187.25\n",
       "2022-05-05 10:47:13.177  187.28\n",
       "2022-05-05 10:47:13.657  187.36\n",
       "2022-05-05 10:47:14.137  186.41\n",
       "\n",
       "[5267641 rows x 1 columns]"
      ]
     },
     "execution_count": 4,
     "metadata": {},
     "output_type": "execute_result"
    }
   ],
   "source": [
    "df"
   ]
  },
  {
   "cell_type": "code",
   "execution_count": 76,
   "id": "cordless-belief",
   "metadata": {},
   "outputs": [],
   "source": [
    "header_info = []\n",
    "with open('power/09-37-42.CSV') as f:\n",
    "    csv_reader = csv.reader(f)\n",
    "    \n",
    "    for i, row in enumerate(csv_reader):\n",
    "        header_info.append(row)\n",
    "        \n",
    "        if i == 4: break\n",
    "\n",
    "df = pd.read_csv('power/09-37-42.CSV', low_memory=False, skiprows=7, names=['power'], usecols=[1])"
   ]
  },
  {
   "cell_type": "code",
   "execution_count": 77,
   "id": "113909de",
   "metadata": {},
   "outputs": [
    {
     "data": {
      "text/plain": [
       "[['Tektronix PA1000'],\n",
       " ['Serial Number:', 'C040335'],\n",
       " ['Firmware Version:', '1.3.15'],\n",
       " ['Start Date (YYYYMMDD):', '2022-02-01'],\n",
       " ['Start Time (24hr):', '09:37:42']]"
      ]
     },
     "execution_count": 77,
     "metadata": {},
     "output_type": "execute_result"
    }
   ],
   "source": [
    "header_info"
   ]
  },
  {
   "cell_type": "code",
   "execution_count": 78,
   "id": "94de5ec5",
   "metadata": {},
   "outputs": [
    {
     "name": "stdout",
     "output_type": "stream",
     "text": [
      "2022-02-01 09:37:42\n",
      "2022-02-01 09:37:43\n"
     ]
    }
   ],
   "source": [
    "date = header_info[3][1]\n",
    "time = header_info[4][1]\n",
    "datetime_format = \"%Y-%m-%d %H:%M:%S\"\n",
    "\n",
    "datetime_str = f\"{date} {time}\"\n",
    "\n",
    "timedate = datetime.strptime(datetime_str, datetime_format)\n",
    "\n",
    "print(timedate)\n",
    "print(timedate + timedelta(0,1))\n",
    "log_times = [timedate + timedelta(0, delta) for delta in range(df.size)]"
   ]
  },
  {
   "cell_type": "code",
   "execution_count": 79,
   "id": "87d8f719",
   "metadata": {},
   "outputs": [],
   "source": [
    "df.insert(0, \"datetime\", log_times)"
   ]
  },
  {
   "cell_type": "code",
   "execution_count": 80,
   "id": "c9a4ec44",
   "metadata": {},
   "outputs": [
    {
     "name": "stdout",
     "output_type": "stream",
     "text": [
      "                      power\n",
      "datetime                   \n",
      "2022-02-01 09:37:42  117.40\n",
      "2022-02-01 09:37:43  116.95\n",
      "2022-02-01 09:37:44  116.23\n",
      "2022-02-01 09:37:45  116.00\n",
      "2022-02-01 09:37:46  116.50\n",
      "...                     ...\n",
      "2022-02-03 15:42:20  117.64\n",
      "2022-02-03 15:42:21  116.97\n",
      "2022-02-03 15:42:22  117.01\n",
      "2022-02-03 15:42:23  117.56\n",
      "2022-02-03 15:42:24  118.06\n",
      "\n",
      "[194683 rows x 1 columns]\n"
     ]
    }
   ],
   "source": [
    "df.set_index('datetime', inplace=True)\n",
    "print(df)"
   ]
  },
  {
   "cell_type": "code",
   "execution_count": null,
   "id": "d5597529",
   "metadata": {},
   "outputs": [],
   "source": [
    "194683"
   ]
  },
  {
   "cell_type": "markdown",
   "id": "f94c02f9",
   "metadata": {},
   "source": [
    "# Big file"
   ]
  },
  {
   "cell_type": "code",
   "execution_count": 140,
   "id": "71fe8cc3",
   "metadata": {},
   "outputs": [],
   "source": [
    "df = pd.read_csv('grouped_unrounded.csv', dtype={'datetime': \"string\", \"power\": float}, low_memory=False)\n",
    "df['datetime'] = pd.to_datetime(df['datetime'])"
   ]
  },
  {
   "cell_type": "code",
   "execution_count": 141,
   "id": "851eba65",
   "metadata": {},
   "outputs": [
    {
     "data": {
      "text/html": [
       "<div>\n",
       "<style scoped>\n",
       "    .dataframe tbody tr th:only-of-type {\n",
       "        vertical-align: middle;\n",
       "    }\n",
       "\n",
       "    .dataframe tbody tr th {\n",
       "        vertical-align: top;\n",
       "    }\n",
       "\n",
       "    .dataframe thead th {\n",
       "        text-align: right;\n",
       "    }\n",
       "</style>\n",
       "<table border=\"1\" class=\"dataframe\">\n",
       "  <thead>\n",
       "    <tr style=\"text-align: right;\">\n",
       "      <th></th>\n",
       "      <th>power</th>\n",
       "    </tr>\n",
       "    <tr>\n",
       "      <th>datetime</th>\n",
       "      <th></th>\n",
       "    </tr>\n",
       "  </thead>\n",
       "  <tbody>\n",
       "    <tr>\n",
       "      <th>2022-02-14 15:05:56.374</th>\n",
       "      <td>115.90</td>\n",
       "    </tr>\n",
       "    <tr>\n",
       "      <th>2022-02-14 15:05:56.865</th>\n",
       "      <td>116.25</td>\n",
       "    </tr>\n",
       "    <tr>\n",
       "      <th>2022-02-14 15:05:57.344</th>\n",
       "      <td>116.10</td>\n",
       "    </tr>\n",
       "    <tr>\n",
       "      <th>2022-02-14 15:05:57.826</th>\n",
       "      <td>115.80</td>\n",
       "    </tr>\n",
       "    <tr>\n",
       "      <th>2022-02-14 15:05:58.305</th>\n",
       "      <td>115.25</td>\n",
       "    </tr>\n",
       "    <tr>\n",
       "      <th>...</th>\n",
       "      <td>...</td>\n",
       "    </tr>\n",
       "    <tr>\n",
       "      <th>2022-06-13 09:19:20.444</th>\n",
       "      <td>79.80</td>\n",
       "    </tr>\n",
       "    <tr>\n",
       "      <th>2022-06-13 09:19:20.936</th>\n",
       "      <td>81.25</td>\n",
       "    </tr>\n",
       "    <tr>\n",
       "      <th>2022-06-13 09:19:21.415</th>\n",
       "      <td>80.80</td>\n",
       "    </tr>\n",
       "    <tr>\n",
       "      <th>2022-06-13 09:19:21.897</th>\n",
       "      <td>82.80</td>\n",
       "    </tr>\n",
       "    <tr>\n",
       "      <th>2022-06-13 09:19:22.376</th>\n",
       "      <td>81.06</td>\n",
       "    </tr>\n",
       "  </tbody>\n",
       "</table>\n",
       "<p>11232088 rows × 1 columns</p>\n",
       "</div>"
      ],
      "text/plain": [
       "                          power\n",
       "datetime                       \n",
       "2022-02-14 15:05:56.374  115.90\n",
       "2022-02-14 15:05:56.865  116.25\n",
       "2022-02-14 15:05:57.344  116.10\n",
       "2022-02-14 15:05:57.826  115.80\n",
       "2022-02-14 15:05:58.305  115.25\n",
       "...                         ...\n",
       "2022-06-13 09:19:20.444   79.80\n",
       "2022-06-13 09:19:20.936   81.25\n",
       "2022-06-13 09:19:21.415   80.80\n",
       "2022-06-13 09:19:21.897   82.80\n",
       "2022-06-13 09:19:22.376   81.06\n",
       "\n",
       "[11232088 rows x 1 columns]"
      ]
     },
     "execution_count": 141,
     "metadata": {},
     "output_type": "execute_result"
    }
   ],
   "source": [
    "df.set_index('datetime', inplace=True)\n",
    "df"
   ]
  },
  {
   "cell_type": "markdown",
   "id": "13426bcd",
   "metadata": {},
   "source": [
    "### Fixing power difference"
   ]
  },
  {
   "cell_type": "code",
   "execution_count": 142,
   "id": "f5911cb2",
   "metadata": {},
   "outputs": [],
   "source": [
    "power_diff = 9.162812939836797\n",
    "start_increase = \"2022-05-23 09:48:48\"\n",
    "end_increase = \"2022-05-24 14:00:00\"\n",
    "\n",
    "increased_section = df[start_increase : end_increase]\n",
    "increased_section = increased_section.apply(lambda x: x - power_diff)\n",
    "\n",
    "df.update(increased_section)"
   ]
  },
  {
   "cell_type": "code",
   "execution_count": 122,
   "id": "bd83c177",
   "metadata": {},
   "outputs": [
    {
     "data": {
      "text/plain": [
       "<AxesSubplot:xlabel='datetime'>"
      ]
     },
     "execution_count": 122,
     "metadata": {},
     "output_type": "execute_result"
    },
    {
     "data": {
      "image/png": "[encoded data removed]",
      "text/plain": [
       "<Figure size 432x288 with 1 Axes>"
      ]
     },
     "metadata": {
      "needs_background": "light"
     },
     "output_type": "display_data"
    }
   ],
   "source": [
    "#Before\n",
    "df['23-05-2022 07:00':'23-05-2022 12:30'].plot()"
   ]
  },
  {
   "cell_type": "code",
   "execution_count": 143,
   "id": "445835e9",
   "metadata": {},
   "outputs": [
    {
     "data": {
      "text/plain": [
       "<AxesSubplot:xlabel='datetime'>"
      ]
     },
     "execution_count": 143,
     "metadata": {},
     "output_type": "execute_result"
    },
    {
     "data": {
      "image/png": "[encoded data removed]",
      "text/plain": [
       "<Figure size 432x288 with 1 Axes>"
      ]
     },
     "metadata": {
      "needs_background": "light"
     },
     "output_type": "display_data"
    }
   ],
   "source": [
    "#After\n",
    "df['23-05-2022 07:00':'23-05-2022 12:30'].plot()"
   ]
  },
  {
   "cell_type": "code",
   "execution_count": 144,
   "id": "ed0a890e",
   "metadata": {},
   "outputs": [],
   "source": [
    "df.to_csv(\"grouped_unrounded_adjusted.csv\")"
   ]
  },
  {
   "cell_type": "markdown",
   "id": "bd4db5c6",
   "metadata": {},
   "source": [
    "## Average power consumption"
   ]
  },
  {
   "cell_type": "code",
   "execution_count": 2,
   "id": "fbe286b8",
   "metadata": {},
   "outputs": [
    {
     "name": "stdout",
     "output_type": "stream",
     "text": [
      "<class 'pandas.core.frame.DataFrame'>\n",
      "DatetimeIndex: 5900166 entries, 2022-02-14 15:05:56 to 2022-06-13 09:19:22\n",
      "Data columns (total 1 columns):\n",
      " #   Column  Dtype  \n",
      "---  ------  -----  \n",
      " 0   power   float64\n",
      "dtypes: float64(1)\n",
      "memory usage: 90.0 MB\n"
     ]
    }
   ],
   "source": [
    "df_rounded = pd.read_csv('grouped_rounded_adjusted.csv', dtype={'datetime': \"string\", \"power\": float}, low_memory=False)\n",
    "df_rounded['datetime'] = pd.to_datetime(df_rounded['datetime'])\n",
    "df_rounded.set_index('datetime', inplace=True)\n",
    "df_rounded.info()"
   ]
  },
  {
   "cell_type": "code",
   "execution_count": 3,
   "id": "054c8178",
   "metadata": {},
   "outputs": [
    {
     "name": "stdout",
     "output_type": "stream",
     "text": [
      "<class 'pandas.core.frame.DataFrame'>\n",
      "DatetimeIndex: 11232088 entries, 2022-02-14 15:05:56.374000 to 2022-06-13 09:19:22.376000\n",
      "Data columns (total 1 columns):\n",
      " #   Column  Dtype  \n",
      "---  ------  -----  \n",
      " 0   power   float64\n",
      "dtypes: float64(1)\n",
      "memory usage: 171.4 MB\n"
     ]
    }
   ],
   "source": [
    "df_unrounded = pd.read_csv('grouped_unrounded_adjusted.csv', dtype={'datetime': \"string\", \"power\": float}, low_memory=False)\n",
    "df_unrounded['datetime'] = pd.to_datetime(df_unrounded['datetime'])\n",
    "df_unrounded.set_index('datetime', inplace=True)\n",
    "df_unrounded.info()"
   ]
  },
  {
   "cell_type": "code",
   "execution_count": 4,
   "id": "c49eebae",
   "metadata": {},
   "outputs": [],
   "source": [
    "with open(\"power/db_vmaf_yuv_2022-06-07.json\") as f:\n",
    "    vmaf_data = json.load(f)\n",
    "\n",
    "# print(json.dumps(vmaf_data[\"libvpx-vp9\"][\"1\"], indent=2))\n",
    "\n",
    "times = [[qp[\"start_time\"], qp[\"end_time\"]] for qp in vmaf_data[\"libvpx-vp9\"][\"1\"][\"evaluated_qps\"]] + [[vmaf_data[\"libvpx-vp9\"][\"1\"][\"target_encode\"][\"start_time\"], vmaf_data[\"libvpx-vp9\"][\"1\"][\"target_encode\"][\"end_time\"]]]"
   ]
  },
  {
   "cell_type": "code",
   "execution_count": 5,
   "id": "06e18a90",
   "metadata": {},
   "outputs": [
    {
     "data": {
      "text/plain": [
       "dict_keys(['libvpx-vp9', 'libx264', 'libx265', 'libsvtav1', 'VVC'])"
      ]
     },
     "execution_count": 5,
     "metadata": {},
     "output_type": "execute_result"
    }
   ],
   "source": [
    "vmaf_data.keys()"
   ]
  },
  {
   "cell_type": "code",
   "execution_count": 6,
   "id": "9d6a013c",
   "metadata": {},
   "outputs": [],
   "source": [
    "vids_flat = {}\n",
    "\n",
    "for codec in vmaf_data.keys():\n",
    "    vids = vmaf_data[codec]\n",
    "    \n",
    "    for i, vid in enumerate(vmaf_data[codec].values()):\n",
    "        if \"error\" in vid:\n",
    "            continue\n",
    "        vid[\"codec\"] = codec\n",
    "        vids_flat[f\"{i}-{codec}\"] = vid "
   ]
  },
  {
   "cell_type": "code",
   "execution_count": 7,
   "id": "baf7d1d6",
   "metadata": {},
   "outputs": [],
   "source": [
    "test_videos = {}\n",
    "\n",
    "for codec in vmaf_data.keys():\n",
    "    vids = {k: vmaf_data[codec][k] for k in [\"66\"]}\n",
    "    \n",
    "    for i, vid in enumerate(vids.values()):\n",
    "        vid[\"codec\"] = codec\n",
    "        test_videos[f\"{i}-{codec}\"] = vid"
   ]
  },
  {
   "cell_type": "code",
   "execution_count": 284,
   "id": "2cdd3586",
   "metadata": {},
   "outputs": [],
   "source": [
    "animation_3_res = {k: vmaf_data[\"libvpx-vp9\"][k] for k in [\"1\", \"2\", \"3\", \"13\", \"14\", \"15\"]}"
   ]
  },
  {
   "cell_type": "code",
   "execution_count": 317,
   "id": "4b05520c",
   "metadata": {},
   "outputs": [],
   "source": [
    "animation_3_res[\"1\"][\"codec\"] = \"libvpx-vp9\""
   ]
  },
  {
   "cell_type": "markdown",
   "id": "7a49488c",
   "metadata": {},
   "source": [
    "### Unrounded"
   ]
  },
  {
   "cell_type": "code",
   "execution_count": 8,
   "id": "0653f805",
   "metadata": {},
   "outputs": [],
   "source": [
    "def get_energy_video(df, times):\n",
    "    avg_energy = [df[time[0] : time[1]].mean() for time in times]\n",
    "    avg_energy = (sum(avg_energy) / len(avg_energy)).values[0]\n",
    "    \n",
    "    return avg_energy\n",
    "\n",
    "def get_diff(val1, val2):\n",
    "    return abs((val1 - val2) / ((val1 + val2) / 2) * 100)"
   ]
  },
  {
   "cell_type": "code",
   "execution_count": 9,
   "id": "67fe421d",
   "metadata": {},
   "outputs": [],
   "source": [
    "get_video_time = lambda video: [[qp[\"start_time\"], qp[\"end_time\"]] for qp in video[\"evaluated_qps\"]] + [[video[\"target_encode\"][\"start_time\"], video[\"target_encode\"][\"end_time\"]]]\n",
    "\n",
    "video_times = [get_video_time(video) for video in vids_flat.values()]"
   ]
  },
  {
   "cell_type": "code",
   "execution_count": 10,
   "id": "4df4a11b",
   "metadata": {},
   "outputs": [],
   "source": [
    "avg_powers_unr = [get_energy_video(df_unrounded, time) for time in video_times]\n",
    "# print(avg_powers_unr[0])\n",
    "\n",
    "avg_powers_r   = [get_energy_video(df_rounded, time) for time in video_times]\n",
    "# print(avg_powers_r[0])\n",
    "\n",
    "percentage_diffs_power = [get_diff(unr, r) for unr, r in zip(avg_powers_unr, avg_powers_r)]\n",
    "# print(percentage_diffs_power[0])"
   ]
  },
  {
   "cell_type": "code",
   "execution_count": 11,
   "id": "548b4548",
   "metadata": {},
   "outputs": [
    {
     "data": {
      "text/html": [
       "<div>\n",
       "<style scoped>\n",
       "    .dataframe tbody tr th:only-of-type {\n",
       "        vertical-align: middle;\n",
       "    }\n",
       "\n",
       "    .dataframe tbody tr th {\n",
       "        vertical-align: top;\n",
       "    }\n",
       "\n",
       "    .dataframe thead th {\n",
       "        text-align: right;\n",
       "    }\n",
       "</style>\n",
       "<table border=\"1\" class=\"dataframe\">\n",
       "  <thead>\n",
       "    <tr style=\"text-align: right;\">\n",
       "      <th></th>\n",
       "      <th>codec</th>\n",
       "      <th>video_name</th>\n",
       "      <th>resolution</th>\n",
       "      <th>power_rounded</th>\n",
       "      <th>power_unrounded</th>\n",
       "      <th>power difference</th>\n",
       "    </tr>\n",
       "  </thead>\n",
       "  <tbody>\n",
       "    <tr>\n",
       "      <th>0</th>\n",
       "      <td>libvpx-vp9</td>\n",
       "      <td>Animation_1080P-05f8</td>\n",
       "      <td>360</td>\n",
       "      <td>115.512842</td>\n",
       "      <td>115.490600</td>\n",
       "      <td>0.019257</td>\n",
       "    </tr>\n",
       "    <tr>\n",
       "      <th>1</th>\n",
       "      <td>libvpx-vp9</td>\n",
       "      <td>Animation_1080P-05f8</td>\n",
       "      <td>720</td>\n",
       "      <td>129.244622</td>\n",
       "      <td>129.404393</td>\n",
       "      <td>0.123543</td>\n",
       "    </tr>\n",
       "    <tr>\n",
       "      <th>2</th>\n",
       "      <td>libvpx-vp9</td>\n",
       "      <td>Animation_1080P-05f8</td>\n",
       "      <td>1080</td>\n",
       "      <td>129.303035</td>\n",
       "      <td>129.233555</td>\n",
       "      <td>0.053749</td>\n",
       "    </tr>\n",
       "    <tr>\n",
       "      <th>3</th>\n",
       "      <td>libvpx-vp9</td>\n",
       "      <td>CoverSong_1080P-0188</td>\n",
       "      <td>360</td>\n",
       "      <td>117.313735</td>\n",
       "      <td>117.234878</td>\n",
       "      <td>0.067242</td>\n",
       "    </tr>\n",
       "    <tr>\n",
       "      <th>4</th>\n",
       "      <td>libvpx-vp9</td>\n",
       "      <td>HowTo_1080P-0267</td>\n",
       "      <td>360</td>\n",
       "      <td>115.776738</td>\n",
       "      <td>115.760609</td>\n",
       "      <td>0.013932</td>\n",
       "    </tr>\n",
       "    <tr>\n",
       "      <th>...</th>\n",
       "      <td>...</td>\n",
       "      <td>...</td>\n",
       "      <td>...</td>\n",
       "      <td>...</td>\n",
       "      <td>...</td>\n",
       "      <td>...</td>\n",
       "    </tr>\n",
       "    <tr>\n",
       "      <th>1908</th>\n",
       "      <td>VVC</td>\n",
       "      <td>LyricVideo_1080P-63d9</td>\n",
       "      <td>1080</td>\n",
       "      <td>161.693357</td>\n",
       "      <td>161.591969</td>\n",
       "      <td>0.062723</td>\n",
       "    </tr>\n",
       "    <tr>\n",
       "      <th>1909</th>\n",
       "      <td>VVC</td>\n",
       "      <td>NewsClip_1080P-4241</td>\n",
       "      <td>1080</td>\n",
       "      <td>165.116503</td>\n",
       "      <td>165.016349</td>\n",
       "      <td>0.060675</td>\n",
       "    </tr>\n",
       "    <tr>\n",
       "      <th>1910</th>\n",
       "      <td>VVC</td>\n",
       "      <td>TelevisionClip_1080P-5278</td>\n",
       "      <td>1080</td>\n",
       "      <td>162.405659</td>\n",
       "      <td>162.518631</td>\n",
       "      <td>0.069538</td>\n",
       "    </tr>\n",
       "    <tr>\n",
       "      <th>1911</th>\n",
       "      <td>VVC</td>\n",
       "      <td>Animation_1080P-4be3</td>\n",
       "      <td>1080</td>\n",
       "      <td>164.677370</td>\n",
       "      <td>164.625814</td>\n",
       "      <td>0.031312</td>\n",
       "    </tr>\n",
       "    <tr>\n",
       "      <th>1912</th>\n",
       "      <td>VVC</td>\n",
       "      <td>CoverSong_1080P-3409</td>\n",
       "      <td>1080</td>\n",
       "      <td>158.489481</td>\n",
       "      <td>158.457293</td>\n",
       "      <td>0.020311</td>\n",
       "    </tr>\n",
       "  </tbody>\n",
       "</table>\n",
       "<p>1913 rows × 6 columns</p>\n",
       "</div>"
      ],
      "text/plain": [
       "           codec                 video_name  resolution  power_rounded  \\\n",
       "0     libvpx-vp9       Animation_1080P-05f8         360     115.512842   \n",
       "1     libvpx-vp9       Animation_1080P-05f8         720     129.244622   \n",
       "2     libvpx-vp9       Animation_1080P-05f8        1080     129.303035   \n",
       "3     libvpx-vp9       CoverSong_1080P-0188         360     117.313735   \n",
       "4     libvpx-vp9           HowTo_1080P-0267         360     115.776738   \n",
       "...          ...                        ...         ...            ...   \n",
       "1908         VVC      LyricVideo_1080P-63d9        1080     161.693357   \n",
       "1909         VVC        NewsClip_1080P-4241        1080     165.116503   \n",
       "1910         VVC  TelevisionClip_1080P-5278        1080     162.405659   \n",
       "1911         VVC       Animation_1080P-4be3        1080     164.677370   \n",
       "1912         VVC       CoverSong_1080P-3409        1080     158.489481   \n",
       "\n",
       "      power_unrounded  power difference  \n",
       "0          115.490600          0.019257  \n",
       "1          129.404393          0.123543  \n",
       "2          129.233555          0.053749  \n",
       "3          117.234878          0.067242  \n",
       "4          115.760609          0.013932  \n",
       "...               ...               ...  \n",
       "1908       161.591969          0.062723  \n",
       "1909       165.016349          0.060675  \n",
       "1910       162.518631          0.069538  \n",
       "1911       164.625814          0.031312  \n",
       "1912       158.457293          0.020311  \n",
       "\n",
       "[1913 rows x 6 columns]"
      ]
     },
     "execution_count": 11,
     "metadata": {},
     "output_type": "execute_result"
    }
   ],
   "source": [
    "video_names = [video['video_name'] for video in vids_flat.values()]\n",
    "res = [video['resolution'] for video in vids_flat.values()]\n",
    "codec = [video['codec'] for video in vids_flat.values()]\n",
    "\n",
    "d = {\"codec\": codec, \"video_name\": video_names, \"resolution\": res, \"power_rounded\": avg_powers_r, \"power_unrounded\": avg_powers_unr, \"power difference\": percentage_diffs_power}\n",
    "\n",
    "powers_df = pd.DataFrame(data = d)\n",
    "\n",
    "powers_df"
   ]
  },
  {
   "cell_type": "code",
   "execution_count": 12,
   "id": "0d2c710c",
   "metadata": {},
   "outputs": [
    {
     "name": "stdout",
     "output_type": "stream",
     "text": [
      "360p\n"
     ]
    },
    {
     "data": {
      "text/html": [
       "<div>\n",
       "<style scoped>\n",
       "    .dataframe tbody tr th:only-of-type {\n",
       "        vertical-align: middle;\n",
       "    }\n",
       "\n",
       "    .dataframe tbody tr th {\n",
       "        vertical-align: top;\n",
       "    }\n",
       "\n",
       "    .dataframe thead th {\n",
       "        text-align: right;\n",
       "    }\n",
       "</style>\n",
       "<table border=\"1\" class=\"dataframe\">\n",
       "  <thead>\n",
       "    <tr style=\"text-align: right;\">\n",
       "      <th></th>\n",
       "      <th>resolution</th>\n",
       "      <th>power_rounded</th>\n",
       "      <th>power_unrounded</th>\n",
       "      <th>power difference</th>\n",
       "    </tr>\n",
       "    <tr>\n",
       "      <th>codec</th>\n",
       "      <th></th>\n",
       "      <th></th>\n",
       "      <th></th>\n",
       "      <th></th>\n",
       "    </tr>\n",
       "  </thead>\n",
       "  <tbody>\n",
       "    <tr>\n",
       "      <th>libsvtav1</th>\n",
       "      <td>360.0</td>\n",
       "      <td>127.537203</td>\n",
       "      <td>127.552722</td>\n",
       "      <td>0.436742</td>\n",
       "    </tr>\n",
       "    <tr>\n",
       "      <th>libvpx-vp9</th>\n",
       "      <td>360.0</td>\n",
       "      <td>121.640899</td>\n",
       "      <td>121.635392</td>\n",
       "      <td>0.097548</td>\n",
       "    </tr>\n",
       "    <tr>\n",
       "      <th>libx264</th>\n",
       "      <td>360.0</td>\n",
       "      <td>120.502760</td>\n",
       "      <td>119.025760</td>\n",
       "      <td>1.391598</td>\n",
       "    </tr>\n",
       "    <tr>\n",
       "      <th>libx265</th>\n",
       "      <td>360.0</td>\n",
       "      <td>105.528071</td>\n",
       "      <td>105.631939</td>\n",
       "      <td>0.314572</td>\n",
       "    </tr>\n",
       "  </tbody>\n",
       "</table>\n",
       "</div>"
      ],
      "text/plain": [
       "            resolution  power_rounded  power_unrounded  power difference\n",
       "codec                                                                   \n",
       "libsvtav1        360.0     127.537203       127.552722          0.436742\n",
       "libvpx-vp9       360.0     121.640899       121.635392          0.097548\n",
       "libx264          360.0     120.502760       119.025760          1.391598\n",
       "libx265          360.0     105.528071       105.631939          0.314572"
      ]
     },
     "metadata": {},
     "output_type": "display_data"
    },
    {
     "name": "stdout",
     "output_type": "stream",
     "text": [
      "720p\n"
     ]
    },
    {
     "data": {
      "text/html": [
       "<div>\n",
       "<style scoped>\n",
       "    .dataframe tbody tr th:only-of-type {\n",
       "        vertical-align: middle;\n",
       "    }\n",
       "\n",
       "    .dataframe tbody tr th {\n",
       "        vertical-align: top;\n",
       "    }\n",
       "\n",
       "    .dataframe thead th {\n",
       "        text-align: right;\n",
       "    }\n",
       "</style>\n",
       "<table border=\"1\" class=\"dataframe\">\n",
       "  <thead>\n",
       "    <tr style=\"text-align: right;\">\n",
       "      <th></th>\n",
       "      <th>resolution</th>\n",
       "      <th>power_rounded</th>\n",
       "      <th>power_unrounded</th>\n",
       "      <th>power difference</th>\n",
       "    </tr>\n",
       "    <tr>\n",
       "      <th>codec</th>\n",
       "      <th></th>\n",
       "      <th></th>\n",
       "      <th></th>\n",
       "      <th></th>\n",
       "    </tr>\n",
       "  </thead>\n",
       "  <tbody>\n",
       "    <tr>\n",
       "      <th>libsvtav1</th>\n",
       "      <td>720.0</td>\n",
       "      <td>156.209828</td>\n",
       "      <td>156.190490</td>\n",
       "      <td>0.507978</td>\n",
       "    </tr>\n",
       "    <tr>\n",
       "      <th>libx264</th>\n",
       "      <td>720.0</td>\n",
       "      <td>152.027740</td>\n",
       "      <td>151.711483</td>\n",
       "      <td>2.206389</td>\n",
       "    </tr>\n",
       "    <tr>\n",
       "      <th>libx265</th>\n",
       "      <td>720.0</td>\n",
       "      <td>142.723011</td>\n",
       "      <td>142.764248</td>\n",
       "      <td>0.346092</td>\n",
       "    </tr>\n",
       "    <tr>\n",
       "      <th>libvpx-vp9</th>\n",
       "      <td>720.0</td>\n",
       "      <td>131.428195</td>\n",
       "      <td>131.435500</td>\n",
       "      <td>0.064186</td>\n",
       "    </tr>\n",
       "  </tbody>\n",
       "</table>\n",
       "</div>"
      ],
      "text/plain": [
       "            resolution  power_rounded  power_unrounded  power difference\n",
       "codec                                                                   \n",
       "libsvtav1        720.0     156.209828       156.190490          0.507978\n",
       "libx264          720.0     152.027740       151.711483          2.206389\n",
       "libx265          720.0     142.723011       142.764248          0.346092\n",
       "libvpx-vp9       720.0     131.428195       131.435500          0.064186"
      ]
     },
     "metadata": {},
     "output_type": "display_data"
    },
    {
     "name": "stdout",
     "output_type": "stream",
     "text": [
      "1080p\n"
     ]
    },
    {
     "data": {
      "text/html": [
       "<div>\n",
       "<style scoped>\n",
       "    .dataframe tbody tr th:only-of-type {\n",
       "        vertical-align: middle;\n",
       "    }\n",
       "\n",
       "    .dataframe tbody tr th {\n",
       "        vertical-align: top;\n",
       "    }\n",
       "\n",
       "    .dataframe thead th {\n",
       "        text-align: right;\n",
       "    }\n",
       "</style>\n",
       "<table border=\"1\" class=\"dataframe\">\n",
       "  <thead>\n",
       "    <tr style=\"text-align: right;\">\n",
       "      <th></th>\n",
       "      <th>resolution</th>\n",
       "      <th>power_rounded</th>\n",
       "      <th>power_unrounded</th>\n",
       "      <th>power difference</th>\n",
       "    </tr>\n",
       "    <tr>\n",
       "      <th>codec</th>\n",
       "      <th></th>\n",
       "      <th></th>\n",
       "      <th></th>\n",
       "      <th></th>\n",
       "    </tr>\n",
       "  </thead>\n",
       "  <tbody>\n",
       "    <tr>\n",
       "      <th>libsvtav1</th>\n",
       "      <td>1080.0</td>\n",
       "      <td>183.527223</td>\n",
       "      <td>183.623564</td>\n",
       "      <td>0.513918</td>\n",
       "    </tr>\n",
       "    <tr>\n",
       "      <th>libx265</th>\n",
       "      <td>1080.0</td>\n",
       "      <td>175.472595</td>\n",
       "      <td>175.400792</td>\n",
       "      <td>0.405759</td>\n",
       "    </tr>\n",
       "    <tr>\n",
       "      <th>libx264</th>\n",
       "      <td>1080.0</td>\n",
       "      <td>172.463846</td>\n",
       "      <td>171.909984</td>\n",
       "      <td>1.452387</td>\n",
       "    </tr>\n",
       "    <tr>\n",
       "      <th>VVC</th>\n",
       "      <td>1080.0</td>\n",
       "      <td>164.784577</td>\n",
       "      <td>164.771575</td>\n",
       "      <td>0.060312</td>\n",
       "    </tr>\n",
       "    <tr>\n",
       "      <th>libvpx-vp9</th>\n",
       "      <td>1080.0</td>\n",
       "      <td>131.687966</td>\n",
       "      <td>131.681424</td>\n",
       "      <td>0.033934</td>\n",
       "    </tr>\n",
       "  </tbody>\n",
       "</table>\n",
       "</div>"
      ],
      "text/plain": [
       "            resolution  power_rounded  power_unrounded  power difference\n",
       "codec                                                                   \n",
       "libsvtav1       1080.0     183.527223       183.623564          0.513918\n",
       "libx265         1080.0     175.472595       175.400792          0.405759\n",
       "libx264         1080.0     172.463846       171.909984          1.452387\n",
       "VVC             1080.0     164.784577       164.771575          0.060312\n",
       "libvpx-vp9      1080.0     131.687966       131.681424          0.033934"
      ]
     },
     "metadata": {},
     "output_type": "display_data"
    }
   ],
   "source": [
    "# powers_df.sort_values(by=\"power_unrounded\", ascending=False)\n",
    "print(\"360p\")\n",
    "display(powers_df[powers_df[\"resolution\"] == 360].groupby([\"codec\"]).mean().sort_values(by=\"power_unrounded\", ascending=False))\n",
    "print(\"720p\")\n",
    "display(powers_df[powers_df[\"resolution\"] == 720].groupby([\"codec\"]).mean().sort_values(by=\"power_unrounded\", ascending=False))\n",
    "print(\"1080p\")\n",
    "display(powers_df[powers_df[\"resolution\"] == 1080].groupby([\"codec\"]).mean().sort_values(by=\"power_unrounded\", ascending=False))"
   ]
  },
  {
   "cell_type": "markdown",
   "id": "6ff9a4d0",
   "metadata": {},
   "source": [
    "### Average power difference"
   ]
  },
  {
   "cell_type": "code",
   "execution_count": 13,
   "id": "137ad7f1",
   "metadata": {},
   "outputs": [
    {
     "data": {
      "text/plain": [
       "0.6043111460959815"
      ]
     },
     "execution_count": 13,
     "metadata": {},
     "output_type": "execute_result"
    }
   ],
   "source": [
    "powers_df[\"power difference\"].mean()"
   ]
  },
  {
   "cell_type": "code",
   "execution_count": null,
   "id": "55a54f91",
   "metadata": {},
   "outputs": [],
   "source": []
  },
  {
   "cell_type": "markdown",
   "id": "a4526b86",
   "metadata": {},
   "source": [
    "### Size Difference"
   ]
  },
  {
   "cell_type": "code",
   "execution_count": 15,
   "id": "d27a38a0",
   "metadata": {},
   "outputs": [
    {
     "name": "stdout",
     "output_type": "stream",
     "text": [
      "Difference in memory usage: -62.24425577626855\n",
      "Difference in file size: -74.46778465648084\n"
     ]
    }
   ],
   "source": [
    "rounded_mem = df_rounded.memory_usage(deep=True).sum()\n",
    "unrounded_mem = df_unrounded.memory_usage(deep=True).sum()\n",
    "\n",
    "print(f\"Difference in memory usage: {(rounded_mem - unrounded_mem) / ((rounded_mem + unrounded_mem) / 2) * 100}\")\n",
    "\n",
    "rounded_file_size = 160007256\n",
    "unrounded_file_size = 349845153\n",
    "\n",
    "print(f\"Difference in file size: {(rounded_file_size - unrounded_file_size) / ((rounded_file_size + unrounded_file_size) / 2) * 100}\")"
   ]
  },
  {
   "cell_type": "code",
   "execution_count": 19,
   "id": "33e02857",
   "metadata": {},
   "outputs": [
    {
     "name": "stdout",
     "output_type": "stream",
     "text": [
      "Unrounded file size is 2.186433051511114x larger\n",
      "Unrounded memory requirement is 1.9036901673613928x more\n"
     ]
    }
   ],
   "source": [
    "print(f\"Unrounded file size is {unrounded_file_size/rounded_file_size}x larger\")\n",
    "print(f\"Unrounded memory requirement is {unrounded_mem/rounded_mem}x more\")"
   ]
  },
  {
   "cell_type": "markdown",
   "id": "785d341f",
   "metadata": {},
   "source": [
    "# Filling Gaps"
   ]
  },
  {
   "cell_type": "code",
   "execution_count": 299,
   "id": "891b5a16",
   "metadata": {},
   "outputs": [],
   "source": [
    "deltas = df.index.to_series().diff()\n",
    "df.insert(1, \"delta\", deltas.dt.seconds)"
   ]
  },
  {
   "cell_type": "code",
   "execution_count": 300,
   "id": "e063f892",
   "metadata": {},
   "outputs": [],
   "source": [
    "newdf = df.query('delta == 2')"
   ]
  },
  {
   "cell_type": "code",
   "execution_count": 305,
   "id": "c06053b5",
   "metadata": {},
   "outputs": [
    {
     "data": {
      "text/html": [
       "<div>\n",
       "<style scoped>\n",
       "    .dataframe tbody tr th:only-of-type {\n",
       "        vertical-align: middle;\n",
       "    }\n",
       "\n",
       "    .dataframe tbody tr th {\n",
       "        vertical-align: top;\n",
       "    }\n",
       "\n",
       "    .dataframe thead th {\n",
       "        text-align: right;\n",
       "    }\n",
       "</style>\n",
       "<table border=\"1\" class=\"dataframe\">\n",
       "  <thead>\n",
       "    <tr style=\"text-align: right;\">\n",
       "      <th></th>\n",
       "      <th>power</th>\n",
       "    </tr>\n",
       "    <tr>\n",
       "      <th>datetime</th>\n",
       "      <th></th>\n",
       "    </tr>\n",
       "  </thead>\n",
       "  <tbody>\n",
       "    <tr>\n",
       "      <th>2022-02-14 15:06:19</th>\n",
       "      <td>115.312500</td>\n",
       "    </tr>\n",
       "    <tr>\n",
       "      <th>2022-02-14 15:09:14</th>\n",
       "      <td>114.421875</td>\n",
       "    </tr>\n",
       "    <tr>\n",
       "      <th>2022-02-14 15:16:12</th>\n",
       "      <td>115.296875</td>\n",
       "    </tr>\n",
       "    <tr>\n",
       "      <th>2022-02-14 15:20:09</th>\n",
       "      <td>211.250000</td>\n",
       "    </tr>\n",
       "    <tr>\n",
       "      <th>2022-02-14 15:24:00</th>\n",
       "      <td>170.843750</td>\n",
       "    </tr>\n",
       "    <tr>\n",
       "      <th>...</th>\n",
       "      <td>...</td>\n",
       "    </tr>\n",
       "    <tr>\n",
       "      <th>2022-06-13 09:12:32</th>\n",
       "      <td>80.390625</td>\n",
       "    </tr>\n",
       "    <tr>\n",
       "      <th>2022-06-13 09:12:35</th>\n",
       "      <td>79.875000</td>\n",
       "    </tr>\n",
       "    <tr>\n",
       "      <th>2022-06-13 09:13:29</th>\n",
       "      <td>81.078125</td>\n",
       "    </tr>\n",
       "    <tr>\n",
       "      <th>2022-06-13 09:13:31</th>\n",
       "      <td>80.531250</td>\n",
       "    </tr>\n",
       "    <tr>\n",
       "      <th>2022-06-13 09:15:27</th>\n",
       "      <td>80.656250</td>\n",
       "    </tr>\n",
       "  </tbody>\n",
       "</table>\n",
       "<p>23956 rows × 1 columns</p>\n",
       "</div>"
      ],
      "text/plain": [
       "                          power\n",
       "datetime                       \n",
       "2022-02-14 15:06:19  115.312500\n",
       "2022-02-14 15:09:14  114.421875\n",
       "2022-02-14 15:16:12  115.296875\n",
       "2022-02-14 15:20:09  211.250000\n",
       "2022-02-14 15:24:00  170.843750\n",
       "...                         ...\n",
       "2022-06-13 09:12:32   80.390625\n",
       "2022-06-13 09:12:35   79.875000\n",
       "2022-06-13 09:13:29   81.078125\n",
       "2022-06-13 09:13:31   80.531250\n",
       "2022-06-13 09:15:27   80.656250\n",
       "\n",
       "[23956 rows x 1 columns]"
      ]
     },
     "execution_count": 305,
     "metadata": {},
     "output_type": "execute_result"
    }
   ],
   "source": [
    "missing_times = newdf.index.to_frame().apply(lambda x: x - timedelta(0, 1))\n",
    "\n",
    "missing_times = missing_times.assign(power = lambda x: (df.loc[x.index]['power'] + df.loc[x.index - timedelta(0, 2)]['power'].values) / 2)\n",
    "missing_times.set_index('datetime', inplace=True)\n",
    "missing_times"
   ]
  },
  {
   "cell_type": "code",
   "execution_count": 307,
   "id": "cd8d9bfe",
   "metadata": {},
   "outputs": [
    {
     "data": {
      "text/html": [
       "<div>\n",
       "<style scoped>\n",
       "    .dataframe tbody tr th:only-of-type {\n",
       "        vertical-align: middle;\n",
       "    }\n",
       "\n",
       "    .dataframe tbody tr th {\n",
       "        vertical-align: top;\n",
       "    }\n",
       "\n",
       "    .dataframe thead th {\n",
       "        text-align: right;\n",
       "    }\n",
       "</style>\n",
       "<table border=\"1\" class=\"dataframe\">\n",
       "  <thead>\n",
       "    <tr style=\"text-align: right;\">\n",
       "      <th></th>\n",
       "      <th>power</th>\n",
       "    </tr>\n",
       "    <tr>\n",
       "      <th>datetime</th>\n",
       "      <th></th>\n",
       "    </tr>\n",
       "  </thead>\n",
       "  <tbody>\n",
       "    <tr>\n",
       "      <th>2022-02-14 15:05:56</th>\n",
       "      <td>115.87500</td>\n",
       "    </tr>\n",
       "    <tr>\n",
       "      <th>2022-02-14 15:05:57</th>\n",
       "      <td>116.18750</td>\n",
       "    </tr>\n",
       "    <tr>\n",
       "      <th>2022-02-14 15:05:58</th>\n",
       "      <td>115.53125</td>\n",
       "    </tr>\n",
       "    <tr>\n",
       "      <th>2022-02-14 15:05:59</th>\n",
       "      <td>114.37500</td>\n",
       "    </tr>\n",
       "    <tr>\n",
       "      <th>2022-02-14 15:06:00</th>\n",
       "      <td>114.09375</td>\n",
       "    </tr>\n",
       "    <tr>\n",
       "      <th>...</th>\n",
       "      <td>...</td>\n",
       "    </tr>\n",
       "    <tr>\n",
       "      <th>2022-06-13 09:19:18</th>\n",
       "      <td>80.93750</td>\n",
       "    </tr>\n",
       "    <tr>\n",
       "      <th>2022-06-13 09:19:19</th>\n",
       "      <td>79.68750</td>\n",
       "    </tr>\n",
       "    <tr>\n",
       "      <th>2022-06-13 09:19:20</th>\n",
       "      <td>80.06250</td>\n",
       "    </tr>\n",
       "    <tr>\n",
       "      <th>2022-06-13 09:19:21</th>\n",
       "      <td>81.03125</td>\n",
       "    </tr>\n",
       "    <tr>\n",
       "      <th>2022-06-13 09:19:22</th>\n",
       "      <td>81.93750</td>\n",
       "    </tr>\n",
       "  </tbody>\n",
       "</table>\n",
       "<p>5924122 rows × 1 columns</p>\n",
       "</div>"
      ],
      "text/plain": [
       "                         power\n",
       "datetime                      \n",
       "2022-02-14 15:05:56  115.87500\n",
       "2022-02-14 15:05:57  116.18750\n",
       "2022-02-14 15:05:58  115.53125\n",
       "2022-02-14 15:05:59  114.37500\n",
       "2022-02-14 15:06:00  114.09375\n",
       "...                        ...\n",
       "2022-06-13 09:19:18   80.93750\n",
       "2022-06-13 09:19:19   79.68750\n",
       "2022-06-13 09:19:20   80.06250\n",
       "2022-06-13 09:19:21   81.03125\n",
       "2022-06-13 09:19:22   81.93750\n",
       "\n",
       "[5924122 rows x 1 columns]"
      ]
     },
     "execution_count": 307,
     "metadata": {},
     "output_type": "execute_result"
    }
   ],
   "source": [
    "res = df.append(test, ignore_index=False)\n",
    "res.sort_index(inplace=True)\n",
    "res = res.drop(columns=[\"delta\"])\n",
    "res"
   ]
  },
  {
   "cell_type": "code",
   "execution_count": 308,
   "id": "a6799f07",
   "metadata": {},
   "outputs": [
    {
     "data": {
      "text/html": [
       "<div>\n",
       "<style scoped>\n",
       "    .dataframe tbody tr th:only-of-type {\n",
       "        vertical-align: middle;\n",
       "    }\n",
       "\n",
       "    .dataframe tbody tr th {\n",
       "        vertical-align: top;\n",
       "    }\n",
       "\n",
       "    .dataframe thead th {\n",
       "        text-align: right;\n",
       "    }\n",
       "</style>\n",
       "<table border=\"1\" class=\"dataframe\">\n",
       "  <thead>\n",
       "    <tr style=\"text-align: right;\">\n",
       "      <th></th>\n",
       "      <th>power</th>\n",
       "    </tr>\n",
       "    <tr>\n",
       "      <th>datetime</th>\n",
       "      <th></th>\n",
       "    </tr>\n",
       "  </thead>\n",
       "  <tbody>\n",
       "    <tr>\n",
       "      <th>2022-02-14 15:06:18</th>\n",
       "      <td>114.437500</td>\n",
       "    </tr>\n",
       "    <tr>\n",
       "      <th>2022-02-14 15:06:19</th>\n",
       "      <td>115.312500</td>\n",
       "    </tr>\n",
       "    <tr>\n",
       "      <th>2022-02-14 15:06:20</th>\n",
       "      <td>116.187500</td>\n",
       "    </tr>\n",
       "    <tr>\n",
       "      <th>2022-02-14 15:06:21</th>\n",
       "      <td>115.125000</td>\n",
       "    </tr>\n",
       "    <tr>\n",
       "      <th>2022-02-14 15:09:12</th>\n",
       "      <td>115.020833</td>\n",
       "    </tr>\n",
       "    <tr>\n",
       "      <th>2022-02-14 15:09:13</th>\n",
       "      <td>113.906250</td>\n",
       "    </tr>\n",
       "  </tbody>\n",
       "</table>\n",
       "</div>"
      ],
      "text/plain": [
       "                          power\n",
       "datetime                       \n",
       "2022-02-14 15:06:18  114.437500\n",
       "2022-02-14 15:06:19  115.312500\n",
       "2022-02-14 15:06:20  116.187500\n",
       "2022-02-14 15:06:21  115.125000\n",
       "2022-02-14 15:09:12  115.020833\n",
       "2022-02-14 15:09:13  113.906250"
      ]
     },
     "execution_count": 308,
     "metadata": {},
     "output_type": "execute_result"
    }
   ],
   "source": [
    "res.iloc[[22,23,24,25,192,193]]"
   ]
  },
  {
   "cell_type": "code",
   "execution_count": 309,
   "id": "9cf16335",
   "metadata": {},
   "outputs": [
    {
     "data": {
      "text/html": [
       "<div>\n",
       "<style scoped>\n",
       "    .dataframe tbody tr th:only-of-type {\n",
       "        vertical-align: middle;\n",
       "    }\n",
       "\n",
       "    .dataframe tbody tr th {\n",
       "        vertical-align: top;\n",
       "    }\n",
       "\n",
       "    .dataframe thead th {\n",
       "        text-align: right;\n",
       "    }\n",
       "</style>\n",
       "<table border=\"1\" class=\"dataframe\">\n",
       "  <thead>\n",
       "    <tr style=\"text-align: right;\">\n",
       "      <th></th>\n",
       "      <th>power</th>\n",
       "      <th>delta</th>\n",
       "    </tr>\n",
       "    <tr>\n",
       "      <th>datetime</th>\n",
       "      <th></th>\n",
       "      <th></th>\n",
       "    </tr>\n",
       "  </thead>\n",
       "  <tbody>\n",
       "    <tr>\n",
       "      <th>2022-02-14 15:06:18</th>\n",
       "      <td>114.43750</td>\n",
       "      <td>1.0</td>\n",
       "    </tr>\n",
       "    <tr>\n",
       "      <th>2022-02-14 15:06:20</th>\n",
       "      <td>116.18750</td>\n",
       "      <td>2.0</td>\n",
       "    </tr>\n",
       "    <tr>\n",
       "      <th>2022-02-14 15:06:21</th>\n",
       "      <td>115.12500</td>\n",
       "      <td>1.0</td>\n",
       "    </tr>\n",
       "    <tr>\n",
       "      <th>2022-02-14 15:06:22</th>\n",
       "      <td>114.03125</td>\n",
       "      <td>1.0</td>\n",
       "    </tr>\n",
       "    <tr>\n",
       "      <th>2022-02-14 15:09:13</th>\n",
       "      <td>113.90625</td>\n",
       "      <td>1.0</td>\n",
       "    </tr>\n",
       "    <tr>\n",
       "      <th>2022-02-14 15:09:15</th>\n",
       "      <td>114.93750</td>\n",
       "      <td>2.0</td>\n",
       "    </tr>\n",
       "  </tbody>\n",
       "</table>\n",
       "</div>"
      ],
      "text/plain": [
       "                         power  delta\n",
       "datetime                             \n",
       "2022-02-14 15:06:18  114.43750    1.0\n",
       "2022-02-14 15:06:20  116.18750    2.0\n",
       "2022-02-14 15:06:21  115.12500    1.0\n",
       "2022-02-14 15:06:22  114.03125    1.0\n",
       "2022-02-14 15:09:13  113.90625    1.0\n",
       "2022-02-14 15:09:15  114.93750    2.0"
      ]
     },
     "execution_count": 309,
     "metadata": {},
     "output_type": "execute_result"
    }
   ],
   "source": [
    "df.iloc[[22,23,24,25,192,193]]"
   ]
  },
  {
   "cell_type": "code",
   "execution_count": 311,
   "id": "be5d9153",
   "metadata": {},
   "outputs": [
    {
     "ename": "ValueError",
     "evalue": "cannot insert delta, already exists",
     "output_type": "error",
     "traceback": [
      "\u001b[1;31m---------------------------------------------------------------------------\u001b[0m",
      "\u001b[1;31mValueError\u001b[0m                                Traceback (most recent call last)",
      "\u001b[1;32m~\\AppData\\Local\\Temp/ipykernel_20800/755065570.py\u001b[0m in \u001b[0;36m<module>\u001b[1;34m\u001b[0m\n\u001b[0;32m      1\u001b[0m \u001b[0mdeltas\u001b[0m \u001b[1;33m=\u001b[0m \u001b[0mres\u001b[0m\u001b[1;33m.\u001b[0m\u001b[0mindex\u001b[0m\u001b[1;33m.\u001b[0m\u001b[0mto_series\u001b[0m\u001b[1;33m(\u001b[0m\u001b[1;33m)\u001b[0m\u001b[1;33m.\u001b[0m\u001b[0mdiff\u001b[0m\u001b[1;33m(\u001b[0m\u001b[1;33m)\u001b[0m\u001b[1;33m\u001b[0m\u001b[1;33m\u001b[0m\u001b[0m\n\u001b[1;32m----> 2\u001b[1;33m \u001b[0mres\u001b[0m\u001b[1;33m.\u001b[0m\u001b[0minsert\u001b[0m\u001b[1;33m(\u001b[0m\u001b[1;36m1\u001b[0m\u001b[1;33m,\u001b[0m \u001b[1;34m\"delta\"\u001b[0m\u001b[1;33m,\u001b[0m \u001b[0mdeltas\u001b[0m\u001b[1;33m.\u001b[0m\u001b[0mdt\u001b[0m\u001b[1;33m.\u001b[0m\u001b[0mseconds\u001b[0m\u001b[1;33m)\u001b[0m\u001b[1;33m\u001b[0m\u001b[1;33m\u001b[0m\u001b[0m\n\u001b[0m\u001b[0;32m      3\u001b[0m \u001b[0mres\u001b[0m\u001b[1;33m\u001b[0m\u001b[1;33m\u001b[0m\u001b[0m\n",
      "\u001b[1;32mD:\\Users\\Connor\\anaconda3\\lib\\site-packages\\pandas\\core\\frame.py\u001b[0m in \u001b[0;36minsert\u001b[1;34m(self, loc, column, value, allow_duplicates)\u001b[0m\n\u001b[0;32m   4412\u001b[0m         \u001b[1;32mif\u001b[0m \u001b[1;32mnot\u001b[0m \u001b[0mallow_duplicates\u001b[0m \u001b[1;32mand\u001b[0m \u001b[0mcolumn\u001b[0m \u001b[1;32min\u001b[0m \u001b[0mself\u001b[0m\u001b[1;33m.\u001b[0m\u001b[0mcolumns\u001b[0m\u001b[1;33m:\u001b[0m\u001b[1;33m\u001b[0m\u001b[1;33m\u001b[0m\u001b[0m\n\u001b[0;32m   4413\u001b[0m             \u001b[1;31m# Should this be a different kind of error??\u001b[0m\u001b[1;33m\u001b[0m\u001b[1;33m\u001b[0m\u001b[0m\n\u001b[1;32m-> 4414\u001b[1;33m             \u001b[1;32mraise\u001b[0m \u001b[0mValueError\u001b[0m\u001b[1;33m(\u001b[0m\u001b[1;34mf\"cannot insert {column}, already exists\"\u001b[0m\u001b[1;33m)\u001b[0m\u001b[1;33m\u001b[0m\u001b[1;33m\u001b[0m\u001b[0m\n\u001b[0m\u001b[0;32m   4415\u001b[0m         \u001b[1;32mif\u001b[0m \u001b[1;32mnot\u001b[0m \u001b[0misinstance\u001b[0m\u001b[1;33m(\u001b[0m\u001b[0mloc\u001b[0m\u001b[1;33m,\u001b[0m \u001b[0mint\u001b[0m\u001b[1;33m)\u001b[0m\u001b[1;33m:\u001b[0m\u001b[1;33m\u001b[0m\u001b[1;33m\u001b[0m\u001b[0m\n\u001b[0;32m   4416\u001b[0m             \u001b[1;32mraise\u001b[0m \u001b[0mTypeError\u001b[0m\u001b[1;33m(\u001b[0m\u001b[1;34m\"loc must be int\"\u001b[0m\u001b[1;33m)\u001b[0m\u001b[1;33m\u001b[0m\u001b[1;33m\u001b[0m\u001b[0m\n",
      "\u001b[1;31mValueError\u001b[0m: cannot insert delta, already exists"
     ]
    }
   ],
   "source": [
    "deltas = res.index.to_series().diff()\n",
    "res.insert(1, \"delta\", deltas.dt.seconds)"
   ]
  },
  {
   "cell_type": "code",
   "execution_count": 315,
   "id": "f0956122",
   "metadata": {},
   "outputs": [
    {
     "data": {
      "text/html": [
       "<div>\n",
       "<style scoped>\n",
       "    .dataframe tbody tr th:only-of-type {\n",
       "        vertical-align: middle;\n",
       "    }\n",
       "\n",
       "    .dataframe tbody tr th {\n",
       "        vertical-align: top;\n",
       "    }\n",
       "\n",
       "    .dataframe thead th {\n",
       "        text-align: right;\n",
       "    }\n",
       "</style>\n",
       "<table border=\"1\" class=\"dataframe\">\n",
       "  <thead>\n",
       "    <tr style=\"text-align: right;\">\n",
       "      <th></th>\n",
       "      <th>power</th>\n",
       "      <th>delta</th>\n",
       "    </tr>\n",
       "    <tr>\n",
       "      <th>datetime</th>\n",
       "      <th></th>\n",
       "      <th></th>\n",
       "    </tr>\n",
       "  </thead>\n",
       "  <tbody>\n",
       "  </tbody>\n",
       "</table>\n",
       "</div>"
      ],
      "text/plain": [
       "Empty DataFrame\n",
       "Columns: [power, delta]\n",
       "Index: []"
      ]
     },
     "execution_count": 315,
     "metadata": {},
     "output_type": "execute_result"
    }
   ],
   "source": [
    "test = res.query('delta == 2')\n",
    "test"
   ]
  },
  {
   "cell_type": "code",
   "execution_count": 35,
   "id": "67dc26c5",
   "metadata": {
    "scrolled": true
   },
   "outputs": [
    {
     "data": {
      "text/plain": [
       "23        0 days 00:00:02\n",
       "72        0 days 00:00:05\n",
       "193       0 days 00:00:02\n",
       "238       0 days 00:00:33\n",
       "578       0 days 00:00:02\n",
       "                ...      \n",
       "5899760   0 days 00:00:02\n",
       "5899762   0 days 00:00:02\n",
       "5899815   0 days 00:00:02\n",
       "5899816   0 days 00:00:02\n",
       "5899931   0 days 00:00:02\n",
       "Name: datetime, Length: 24156, dtype: timedelta64[ns]"
      ]
     },
     "execution_count": 35,
     "metadata": {},
     "output_type": "execute_result"
    }
   ],
   "source": [
    "gaps = deltas[deltas > timedelta(0, 1)]\n",
    "gaps"
   ]
  },
  {
   "cell_type": "code",
   "execution_count": 36,
   "id": "0de98f28",
   "metadata": {},
   "outputs": [],
   "source": [
    "sorted_gaps = gaps.sort_values(ascending=False)"
   ]
  },
  {
   "cell_type": "code",
   "execution_count": 37,
   "id": "0f3e9b34",
   "metadata": {},
   "outputs": [
    {
     "data": {
      "text/plain": [
       "1686122   44 days 13:31:00\n",
       "2890453    2 days 18:06:15\n",
       "1686147    1 days 08:25:01\n",
       "427950     1 days 01:07:40\n",
       "2293730    0 days 05:44:16\n",
       "                ...       \n",
       "1921153    0 days 00:00:02\n",
       "1920750    0 days 00:00:02\n",
       "1920578    0 days 00:00:02\n",
       "1920406    0 days 00:00:02\n",
       "5899931    0 days 00:00:02\n",
       "Name: datetime, Length: 24156, dtype: timedelta64[ns]"
      ]
     },
     "execution_count": 37,
     "metadata": {},
     "output_type": "execute_result"
    }
   ],
   "source": [
    "sorted_gaps"
   ]
  },
  {
   "cell_type": "code",
   "execution_count": null,
   "id": "624d0b5d",
   "metadata": {},
   "outputs": [],
   "source": [
    "23750"
   ]
  },
  {
   "cell_type": "code",
   "execution_count": 42,
   "id": "12a9e932",
   "metadata": {},
   "outputs": [],
   "source": [
    "deltas2 = df2['datetime'].diff()\n",
    "gaps2 = deltas2[deltas2 > timedelta(0, 1)]\n",
    "sorted_gaps2 = gaps2.sort_values(ascending=False)"
   ]
  },
  {
   "cell_type": "code",
   "execution_count": 43,
   "id": "9e60b404",
   "metadata": {},
   "outputs": [
    {
     "data": {
      "text/plain": [
       "9558891    44 days 13:31:00\n",
       "15704415    2 days 18:06:15\n",
       "9559044     1 days 08:25:01\n",
       "2436390     1 days 01:07:40\n",
       "13003467    0 days 05:44:16\n",
       "                 ...       \n",
       "10889478    0 days 00:00:02\n",
       "10887021    0 days 00:00:02\n",
       "10885968    0 days 00:00:02\n",
       "10884915    0 days 00:00:02\n",
       "29123823    0 days 00:00:02\n",
       "Name: datetime, Length: 24156, dtype: timedelta64[ns]"
      ]
     },
     "execution_count": 43,
     "metadata": {},
     "output_type": "execute_result"
    }
   ],
   "source": [
    "sorted_gaps2"
   ]
  },
  {
   "cell_type": "code",
   "execution_count": 47,
   "id": "782f0b8e",
   "metadata": {},
   "outputs": [
    {
     "data": {
      "text/plain": [
       "20048956   0 days 00:00:02\n",
       "20048492   0 days 00:00:02\n",
       "20093890   0 days 00:00:02\n",
       "20103058   0 days 00:00:02\n",
       "20134818   0 days 00:00:02\n",
       "                 ...      \n",
       "10889478   0 days 00:00:02\n",
       "10887021   0 days 00:00:02\n",
       "10885968   0 days 00:00:02\n",
       "10884915   0 days 00:00:02\n",
       "29123823   0 days 00:00:02\n",
       "Name: datetime, Length: 23956, dtype: timedelta64[ns]"
      ]
     },
     "execution_count": 47,
     "metadata": {},
     "output_type": "execute_result"
    }
   ],
   "source": [
    "sorted_gaps2[sorted_gaps2 < timedelta(0, 3)]"
   ]
  },
  {
   "cell_type": "markdown",
   "id": "dbe690f6",
   "metadata": {},
   "source": [
    "# Fixing 10 watt difference"
   ]
  },
  {
   "cell_type": "code",
   "execution_count": 125,
   "id": "536262a9",
   "metadata": {},
   "outputs": [],
   "source": [
    "# df = pd.read_csv('power/power_log_2022-05-26.csv', names=['datetime', 'power'], dtype={'datetime': \"string\", \"power\": float}, usecols=(0, 1), low_memory=False)\n",
    "df = pd.read_csv('test10.csv', dtype={'datetime': \"string\", \"power\": float}, usecols=(0, 1), low_memory=False)\n",
    "df['datetime'] = pd.to_datetime(df['datetime'])\n",
    "df.set_index('datetime', inplace=True)"
   ]
  },
  {
   "cell_type": "code",
   "execution_count": 126,
   "id": "efaa167e",
   "metadata": {},
   "outputs": [
    {
     "data": {
      "text/html": [
       "<div>\n",
       "<style scoped>\n",
       "    .dataframe tbody tr th:only-of-type {\n",
       "        vertical-align: middle;\n",
       "    }\n",
       "\n",
       "    .dataframe tbody tr th {\n",
       "        vertical-align: top;\n",
       "    }\n",
       "\n",
       "    .dataframe thead th {\n",
       "        text-align: right;\n",
       "    }\n",
       "</style>\n",
       "<table border=\"1\" class=\"dataframe\">\n",
       "  <thead>\n",
       "    <tr style=\"text-align: right;\">\n",
       "      <th></th>\n",
       "      <th>power</th>\n",
       "    </tr>\n",
       "    <tr>\n",
       "      <th>datetime</th>\n",
       "      <th></th>\n",
       "    </tr>\n",
       "  </thead>\n",
       "  <tbody>\n",
       "    <tr>\n",
       "      <th>2022-02-14 15:05:56</th>\n",
       "      <td>116.06</td>\n",
       "    </tr>\n",
       "    <tr>\n",
       "      <th>2022-02-14 15:05:57</th>\n",
       "      <td>116.00</td>\n",
       "    </tr>\n",
       "    <tr>\n",
       "      <th>2022-02-14 15:05:58</th>\n",
       "      <td>114.94</td>\n",
       "    </tr>\n",
       "    <tr>\n",
       "      <th>2022-02-14 15:05:59</th>\n",
       "      <td>114.10</td>\n",
       "    </tr>\n",
       "    <tr>\n",
       "      <th>2022-02-14 15:06:00</th>\n",
       "      <td>114.25</td>\n",
       "    </tr>\n",
       "    <tr>\n",
       "      <th>...</th>\n",
       "      <td>...</td>\n",
       "    </tr>\n",
       "    <tr>\n",
       "      <th>2022-06-13 09:19:18</th>\n",
       "      <td>79.70</td>\n",
       "    </tr>\n",
       "    <tr>\n",
       "      <th>2022-06-13 09:19:19</th>\n",
       "      <td>80.30</td>\n",
       "    </tr>\n",
       "    <tr>\n",
       "      <th>2022-06-13 09:19:20</th>\n",
       "      <td>80.50</td>\n",
       "    </tr>\n",
       "    <tr>\n",
       "      <th>2022-06-13 09:19:21</th>\n",
       "      <td>81.80</td>\n",
       "    </tr>\n",
       "    <tr>\n",
       "      <th>2022-06-13 09:19:22</th>\n",
       "      <td>81.06</td>\n",
       "    </tr>\n",
       "  </tbody>\n",
       "</table>\n",
       "<p>5900552 rows × 1 columns</p>\n",
       "</div>"
      ],
      "text/plain": [
       "                      power\n",
       "datetime                   \n",
       "2022-02-14 15:05:56  116.06\n",
       "2022-02-14 15:05:57  116.00\n",
       "2022-02-14 15:05:58  114.94\n",
       "2022-02-14 15:05:59  114.10\n",
       "2022-02-14 15:06:00  114.25\n",
       "...                     ...\n",
       "2022-06-13 09:19:18   79.70\n",
       "2022-06-13 09:19:19   80.30\n",
       "2022-06-13 09:19:20   80.50\n",
       "2022-06-13 09:19:21   81.80\n",
       "2022-06-13 09:19:22   81.06\n",
       "\n",
       "[5900552 rows x 1 columns]"
      ]
     },
     "execution_count": 126,
     "metadata": {},
     "output_type": "execute_result"
    }
   ],
   "source": [
    "df"
   ]
  },
  {
   "cell_type": "code",
   "execution_count": 127,
   "id": "8b587add",
   "metadata": {},
   "outputs": [
    {
     "data": {
      "text/plain": [
       "<AxesSubplot:xlabel='datetime'>"
      ]
     },
     "execution_count": 127,
     "metadata": {},
     "output_type": "execute_result"
    },
    {
     "data": {
      "image/png": "[encoded data removed]",
      "text/plain": [
       "<Figure size 432x288 with 1 Axes>"
      ]
     },
     "metadata": {
      "needs_background": "light"
     },
     "output_type": "display_data"
    }
   ],
   "source": [
    "df['23-05-2022 07:25':'24-05-2022 14:00'].plot()"
   ]
  },
  {
   "cell_type": "code",
   "execution_count": 69,
   "id": "f553c8c1",
   "metadata": {},
   "outputs": [
    {
     "data": {
      "text/plain": [
       "<AxesSubplot:xlabel='datetime'>"
      ]
     },
     "execution_count": 69,
     "metadata": {},
     "output_type": "execute_result"
    },
    {
     "data": {
      "image/png": "[encoded data removed]",
      "text/plain": [
       "<Figure size 432x288 with 1 Axes>"
      ]
     },
     "metadata": {
      "needs_background": "light"
     },
     "output_type": "display_data"
    }
   ],
   "source": [
    "df['23-05-2022 07:00':'23-05-2022 12:30'].plot()"
   ]
  },
  {
   "cell_type": "code",
   "execution_count": 71,
   "id": "f095eb08",
   "metadata": {},
   "outputs": [],
   "source": [
    "lower_power = df[\"23-05-2022 7:00\" : \"23-05-2022 9:00\"]\n",
    "higher_power = df[\"23-05-2022 10:30\" : \"23-05-2022 12:30\"]"
   ]
  },
  {
   "cell_type": "code",
   "execution_count": 88,
   "id": "32ef15fa",
   "metadata": {},
   "outputs": [
    {
     "name": "stdout",
     "output_type": "stream",
     "text": [
      "Lower avg: 80.45737104135029, higher avg: 89.62018398118708, diff: 9.162812939836797\n"
     ]
    }
   ],
   "source": [
    "print(f\"Lower avg: {lower_power.mean().values[0]}, higher avg: {higher_power.mean().values[0]}, diff: {higher_power.mean().values[0] - lower_power.mean().values[0]}\")"
   ]
  },
  {
   "cell_type": "code",
   "execution_count": 219,
   "id": "9adee397",
   "metadata": {},
   "outputs": [
    {
     "data": {
      "text/html": [
       "<div>\n",
       "<style scoped>\n",
       "    .dataframe tbody tr th:only-of-type {\n",
       "        vertical-align: middle;\n",
       "    }\n",
       "\n",
       "    .dataframe tbody tr th {\n",
       "        vertical-align: top;\n",
       "    }\n",
       "\n",
       "    .dataframe thead th {\n",
       "        text-align: right;\n",
       "    }\n",
       "</style>\n",
       "<table border=\"1\" class=\"dataframe\">\n",
       "  <thead>\n",
       "    <tr style=\"text-align: right;\">\n",
       "      <th></th>\n",
       "      <th>power</th>\n",
       "    </tr>\n",
       "    <tr>\n",
       "      <th>datetime</th>\n",
       "      <th></th>\n",
       "    </tr>\n",
       "  </thead>\n",
       "  <tbody>\n",
       "    <tr>\n",
       "      <th>2022-05-23 09:48:00</th>\n",
       "      <td>79.900000</td>\n",
       "    </tr>\n",
       "    <tr>\n",
       "      <th>2022-05-23 09:48:01</th>\n",
       "      <td>79.800000</td>\n",
       "    </tr>\n",
       "    <tr>\n",
       "      <th>2022-05-23 09:48:02</th>\n",
       "      <td>80.500000</td>\n",
       "    </tr>\n",
       "    <tr>\n",
       "      <th>2022-05-23 09:48:03</th>\n",
       "      <td>81.300000</td>\n",
       "    </tr>\n",
       "    <tr>\n",
       "      <th>2022-05-23 09:48:04</th>\n",
       "      <td>81.100000</td>\n",
       "    </tr>\n",
       "    <tr>\n",
       "      <th>2022-05-23 09:48:05</th>\n",
       "      <td>80.750000</td>\n",
       "    </tr>\n",
       "    <tr>\n",
       "      <th>2022-05-23 09:48:06</th>\n",
       "      <td>79.750000</td>\n",
       "    </tr>\n",
       "    <tr>\n",
       "      <th>2022-05-23 09:48:07</th>\n",
       "      <td>80.250000</td>\n",
       "    </tr>\n",
       "    <tr>\n",
       "      <th>2022-05-23 09:48:08</th>\n",
       "      <td>81.000000</td>\n",
       "    </tr>\n",
       "    <tr>\n",
       "      <th>2022-05-23 09:48:09</th>\n",
       "      <td>81.250000</td>\n",
       "    </tr>\n",
       "    <tr>\n",
       "      <th>2022-05-23 09:48:10</th>\n",
       "      <td>80.800000</td>\n",
       "    </tr>\n",
       "    <tr>\n",
       "      <th>2022-05-23 09:48:11</th>\n",
       "      <td>80.400000</td>\n",
       "    </tr>\n",
       "    <tr>\n",
       "      <th>2022-05-23 09:48:12</th>\n",
       "      <td>79.600000</td>\n",
       "    </tr>\n",
       "    <tr>\n",
       "      <th>2022-05-23 09:48:13</th>\n",
       "      <td>80.400000</td>\n",
       "    </tr>\n",
       "    <tr>\n",
       "      <th>2022-05-23 09:48:14</th>\n",
       "      <td>81.060000</td>\n",
       "    </tr>\n",
       "    <tr>\n",
       "      <th>2022-05-23 09:48:15</th>\n",
       "      <td>81.400000</td>\n",
       "    </tr>\n",
       "    <tr>\n",
       "      <th>2022-05-23 09:48:16</th>\n",
       "      <td>80.900000</td>\n",
       "    </tr>\n",
       "    <tr>\n",
       "      <th>2022-05-23 09:48:17</th>\n",
       "      <td>79.900000</td>\n",
       "    </tr>\n",
       "    <tr>\n",
       "      <th>2022-05-23 09:48:18</th>\n",
       "      <td>79.750000</td>\n",
       "    </tr>\n",
       "    <tr>\n",
       "      <th>2022-05-23 09:48:19</th>\n",
       "      <td>80.500000</td>\n",
       "    </tr>\n",
       "    <tr>\n",
       "      <th>2022-05-23 09:48:20</th>\n",
       "      <td>80.900000</td>\n",
       "    </tr>\n",
       "    <tr>\n",
       "      <th>2022-05-23 09:48:21</th>\n",
       "      <td>81.250000</td>\n",
       "    </tr>\n",
       "    <tr>\n",
       "      <th>2022-05-23 09:48:22</th>\n",
       "      <td>80.600000</td>\n",
       "    </tr>\n",
       "    <tr>\n",
       "      <th>2022-05-23 09:48:23</th>\n",
       "      <td>79.750000</td>\n",
       "    </tr>\n",
       "    <tr>\n",
       "      <th>2022-05-23 09:48:24</th>\n",
       "      <td>80.000000</td>\n",
       "    </tr>\n",
       "    <tr>\n",
       "      <th>2022-05-23 09:48:25</th>\n",
       "      <td>80.400000</td>\n",
       "    </tr>\n",
       "    <tr>\n",
       "      <th>2022-05-23 09:48:26</th>\n",
       "      <td>81.400000</td>\n",
       "    </tr>\n",
       "    <tr>\n",
       "      <th>2022-05-23 09:48:27</th>\n",
       "      <td>81.000000</td>\n",
       "    </tr>\n",
       "    <tr>\n",
       "      <th>2022-05-23 09:48:28</th>\n",
       "      <td>80.440000</td>\n",
       "    </tr>\n",
       "    <tr>\n",
       "      <th>2022-05-23 09:48:29</th>\n",
       "      <td>79.700000</td>\n",
       "    </tr>\n",
       "    <tr>\n",
       "      <th>2022-05-23 09:48:30</th>\n",
       "      <td>80.100000</td>\n",
       "    </tr>\n",
       "    <tr>\n",
       "      <th>2022-05-23 09:48:31</th>\n",
       "      <td>80.900000</td>\n",
       "    </tr>\n",
       "    <tr>\n",
       "      <th>2022-05-23 09:48:32</th>\n",
       "      <td>81.750000</td>\n",
       "    </tr>\n",
       "    <tr>\n",
       "      <th>2022-05-23 09:48:33</th>\n",
       "      <td>81.250000</td>\n",
       "    </tr>\n",
       "    <tr>\n",
       "      <th>2022-05-23 09:48:34</th>\n",
       "      <td>80.200000</td>\n",
       "    </tr>\n",
       "    <tr>\n",
       "      <th>2022-05-23 09:48:35</th>\n",
       "      <td>79.800000</td>\n",
       "    </tr>\n",
       "    <tr>\n",
       "      <th>2022-05-23 09:48:36</th>\n",
       "      <td>80.560000</td>\n",
       "    </tr>\n",
       "    <tr>\n",
       "      <th>2022-05-23 09:48:37</th>\n",
       "      <td>81.250000</td>\n",
       "    </tr>\n",
       "    <tr>\n",
       "      <th>2022-05-23 09:48:38</th>\n",
       "      <td>85.500000</td>\n",
       "    </tr>\n",
       "    <tr>\n",
       "      <th>2022-05-23 09:48:39</th>\n",
       "      <td>80.750000</td>\n",
       "    </tr>\n",
       "    <tr>\n",
       "      <th>2022-05-23 09:48:40</th>\n",
       "      <td>79.750000</td>\n",
       "    </tr>\n",
       "    <tr>\n",
       "      <th>2022-05-23 09:48:41</th>\n",
       "      <td>79.750000</td>\n",
       "    </tr>\n",
       "    <tr>\n",
       "      <th>2022-05-23 09:48:42</th>\n",
       "      <td>80.750000</td>\n",
       "    </tr>\n",
       "    <tr>\n",
       "      <th>2022-05-23 09:48:43</th>\n",
       "      <td>81.100000</td>\n",
       "    </tr>\n",
       "    <tr>\n",
       "      <th>2022-05-23 09:48:44</th>\n",
       "      <td>81.700000</td>\n",
       "    </tr>\n",
       "    <tr>\n",
       "      <th>2022-05-23 09:48:45</th>\n",
       "      <td>80.250000</td>\n",
       "    </tr>\n",
       "    <tr>\n",
       "      <th>2022-05-23 09:48:46</th>\n",
       "      <td>79.750000</td>\n",
       "    </tr>\n",
       "    <tr>\n",
       "      <th>2022-05-23 09:48:47</th>\n",
       "      <td>83.500000</td>\n",
       "    </tr>\n",
       "    <tr>\n",
       "      <th>2022-05-23 09:48:48</th>\n",
       "      <td>81.437187</td>\n",
       "    </tr>\n",
       "    <tr>\n",
       "      <th>2022-05-23 09:48:49</th>\n",
       "      <td>103.937187</td>\n",
       "    </tr>\n",
       "    <tr>\n",
       "      <th>2022-05-23 09:48:50</th>\n",
       "      <td>106.237187</td>\n",
       "    </tr>\n",
       "    <tr>\n",
       "      <th>2022-05-23 09:48:51</th>\n",
       "      <td>88.437187</td>\n",
       "    </tr>\n",
       "    <tr>\n",
       "      <th>2022-05-23 09:48:52</th>\n",
       "      <td>84.737187</td>\n",
       "    </tr>\n",
       "    <tr>\n",
       "      <th>2022-05-23 09:48:53</th>\n",
       "      <td>100.837187</td>\n",
       "    </tr>\n",
       "    <tr>\n",
       "      <th>2022-05-23 09:48:54</th>\n",
       "      <td>105.087187</td>\n",
       "    </tr>\n",
       "    <tr>\n",
       "      <th>2022-05-23 09:48:55</th>\n",
       "      <td>106.837187</td>\n",
       "    </tr>\n",
       "    <tr>\n",
       "      <th>2022-05-23 09:48:56</th>\n",
       "      <td>106.587187</td>\n",
       "    </tr>\n",
       "    <tr>\n",
       "      <th>2022-05-23 09:48:57</th>\n",
       "      <td>105.737187</td>\n",
       "    </tr>\n",
       "    <tr>\n",
       "      <th>2022-05-23 09:48:58</th>\n",
       "      <td>105.637187</td>\n",
       "    </tr>\n",
       "    <tr>\n",
       "      <th>2022-05-23 09:48:59</th>\n",
       "      <td>106.587187</td>\n",
       "    </tr>\n",
       "  </tbody>\n",
       "</table>\n",
       "</div>"
      ],
      "text/plain": [
       "                          power\n",
       "datetime                       \n",
       "2022-05-23 09:48:00   79.900000\n",
       "2022-05-23 09:48:01   79.800000\n",
       "2022-05-23 09:48:02   80.500000\n",
       "2022-05-23 09:48:03   81.300000\n",
       "2022-05-23 09:48:04   81.100000\n",
       "2022-05-23 09:48:05   80.750000\n",
       "2022-05-23 09:48:06   79.750000\n",
       "2022-05-23 09:48:07   80.250000\n",
       "2022-05-23 09:48:08   81.000000\n",
       "2022-05-23 09:48:09   81.250000\n",
       "2022-05-23 09:48:10   80.800000\n",
       "2022-05-23 09:48:11   80.400000\n",
       "2022-05-23 09:48:12   79.600000\n",
       "2022-05-23 09:48:13   80.400000\n",
       "2022-05-23 09:48:14   81.060000\n",
       "2022-05-23 09:48:15   81.400000\n",
       "2022-05-23 09:48:16   80.900000\n",
       "2022-05-23 09:48:17   79.900000\n",
       "2022-05-23 09:48:18   79.750000\n",
       "2022-05-23 09:48:19   80.500000\n",
       "2022-05-23 09:48:20   80.900000\n",
       "2022-05-23 09:48:21   81.250000\n",
       "2022-05-23 09:48:22   80.600000\n",
       "2022-05-23 09:48:23   79.750000\n",
       "2022-05-23 09:48:24   80.000000\n",
       "2022-05-23 09:48:25   80.400000\n",
       "2022-05-23 09:48:26   81.400000\n",
       "2022-05-23 09:48:27   81.000000\n",
       "2022-05-23 09:48:28   80.440000\n",
       "2022-05-23 09:48:29   79.700000\n",
       "2022-05-23 09:48:30   80.100000\n",
       "2022-05-23 09:48:31   80.900000\n",
       "2022-05-23 09:48:32   81.750000\n",
       "2022-05-23 09:48:33   81.250000\n",
       "2022-05-23 09:48:34   80.200000\n",
       "2022-05-23 09:48:35   79.800000\n",
       "2022-05-23 09:48:36   80.560000\n",
       "2022-05-23 09:48:37   81.250000\n",
       "2022-05-23 09:48:38   85.500000\n",
       "2022-05-23 09:48:39   80.750000\n",
       "2022-05-23 09:48:40   79.750000\n",
       "2022-05-23 09:48:41   79.750000\n",
       "2022-05-23 09:48:42   80.750000\n",
       "2022-05-23 09:48:43   81.100000\n",
       "2022-05-23 09:48:44   81.700000\n",
       "2022-05-23 09:48:45   80.250000\n",
       "2022-05-23 09:48:46   79.750000\n",
       "2022-05-23 09:48:47   83.500000\n",
       "2022-05-23 09:48:48   81.437187\n",
       "2022-05-23 09:48:49  103.937187\n",
       "2022-05-23 09:48:50  106.237187\n",
       "2022-05-23 09:48:51   88.437187\n",
       "2022-05-23 09:48:52   84.737187\n",
       "2022-05-23 09:48:53  100.837187\n",
       "2022-05-23 09:48:54  105.087187\n",
       "2022-05-23 09:48:55  106.837187\n",
       "2022-05-23 09:48:56  106.587187\n",
       "2022-05-23 09:48:57  105.737187\n",
       "2022-05-23 09:48:58  105.637187\n",
       "2022-05-23 09:48:59  106.587187"
      ]
     },
     "execution_count": 219,
     "metadata": {},
     "output_type": "execute_result"
    }
   ],
   "source": [
    "df.loc[\"23-05-2022 09:48\"]"
   ]
  },
  {
   "cell_type": "code",
   "execution_count": 62,
   "id": "0bac49f7",
   "metadata": {},
   "outputs": [
    {
     "data": {
      "text/plain": [
       "<AxesSubplot:xlabel='datetime'>"
      ]
     },
     "execution_count": 62,
     "metadata": {},
     "output_type": "execute_result"
    },
    {
     "data": {
      "image/png": "[encoded data removed]",
      "text/plain": [
       "<Figure size 432x288 with 1 Axes>"
      ]
     },
     "metadata": {
      "needs_background": "light"
     },
     "output_type": "display_data"
    }
   ],
   "source": [
    "df['24-05-2022 13:50':'24-05-2022 15:30'].plot()"
   ]
  },
  {
   "cell_type": "code",
   "execution_count": 58,
   "id": "85898694",
   "metadata": {},
   "outputs": [
    {
     "data": {
      "text/html": [
       "<div>\n",
       "<style scoped>\n",
       "    .dataframe tbody tr th:only-of-type {\n",
       "        vertical-align: middle;\n",
       "    }\n",
       "\n",
       "    .dataframe tbody tr th {\n",
       "        vertical-align: top;\n",
       "    }\n",
       "\n",
       "    .dataframe thead th {\n",
       "        text-align: right;\n",
       "    }\n",
       "</style>\n",
       "<table border=\"1\" class=\"dataframe\">\n",
       "  <thead>\n",
       "    <tr style=\"text-align: right;\">\n",
       "      <th></th>\n",
       "      <th>power</th>\n",
       "    </tr>\n",
       "    <tr>\n",
       "      <th>datetime</th>\n",
       "      <th></th>\n",
       "    </tr>\n",
       "  </thead>\n",
       "  <tbody>\n",
       "    <tr>\n",
       "      <th>2022-05-24 13:59:00</th>\n",
       "      <td>195.9</td>\n",
       "    </tr>\n",
       "    <tr>\n",
       "      <th>2022-05-24 13:59:01</th>\n",
       "      <td>192.8</td>\n",
       "    </tr>\n",
       "    <tr>\n",
       "      <th>2022-05-24 13:59:02</th>\n",
       "      <td>189.1</td>\n",
       "    </tr>\n",
       "    <tr>\n",
       "      <th>2022-05-24 13:59:03</th>\n",
       "      <td>193.5</td>\n",
       "    </tr>\n",
       "    <tr>\n",
       "      <th>2022-05-24 13:59:04</th>\n",
       "      <td>184.0</td>\n",
       "    </tr>\n",
       "    <tr>\n",
       "      <th>2022-05-24 13:59:05</th>\n",
       "      <td>195.8</td>\n",
       "    </tr>\n",
       "    <tr>\n",
       "      <th>2022-05-24 13:59:06</th>\n",
       "      <td>194.6</td>\n",
       "    </tr>\n",
       "    <tr>\n",
       "      <th>2022-05-24 13:59:07</th>\n",
       "      <td>195.5</td>\n",
       "    </tr>\n",
       "    <tr>\n",
       "      <th>2022-05-24 13:59:08</th>\n",
       "      <td>197.0</td>\n",
       "    </tr>\n",
       "    <tr>\n",
       "      <th>2022-05-24 13:59:09</th>\n",
       "      <td>197.2</td>\n",
       "    </tr>\n",
       "    <tr>\n",
       "      <th>2022-05-24 13:59:10</th>\n",
       "      <td>196.0</td>\n",
       "    </tr>\n",
       "    <tr>\n",
       "      <th>2022-05-24 13:59:11</th>\n",
       "      <td>195.1</td>\n",
       "    </tr>\n",
       "    <tr>\n",
       "      <th>2022-05-24 13:59:12</th>\n",
       "      <td>193.9</td>\n",
       "    </tr>\n",
       "    <tr>\n",
       "      <th>2022-05-24 13:59:13</th>\n",
       "      <td>193.8</td>\n",
       "    </tr>\n",
       "    <tr>\n",
       "      <th>2022-05-24 13:59:14</th>\n",
       "      <td>195.2</td>\n",
       "    </tr>\n",
       "    <tr>\n",
       "      <th>2022-05-24 13:59:15</th>\n",
       "      <td>196.2</td>\n",
       "    </tr>\n",
       "    <tr>\n",
       "      <th>2022-05-24 13:59:16</th>\n",
       "      <td>197.2</td>\n",
       "    </tr>\n",
       "    <tr>\n",
       "      <th>2022-05-24 13:59:17</th>\n",
       "      <td>195.5</td>\n",
       "    </tr>\n",
       "    <tr>\n",
       "      <th>2022-05-24 13:59:18</th>\n",
       "      <td>196.8</td>\n",
       "    </tr>\n",
       "    <tr>\n",
       "      <th>2022-05-24 13:59:19</th>\n",
       "      <td>197.8</td>\n",
       "    </tr>\n",
       "    <tr>\n",
       "      <th>2022-05-24 13:59:20</th>\n",
       "      <td>196.8</td>\n",
       "    </tr>\n",
       "    <tr>\n",
       "      <th>2022-05-24 13:59:21</th>\n",
       "      <td>184.0</td>\n",
       "    </tr>\n",
       "    <tr>\n",
       "      <th>2022-05-24 13:59:22</th>\n",
       "      <td>181.0</td>\n",
       "    </tr>\n",
       "    <tr>\n",
       "      <th>2022-05-24 13:59:23</th>\n",
       "      <td>172.1</td>\n",
       "    </tr>\n",
       "    <tr>\n",
       "      <th>2022-05-24 13:59:24</th>\n",
       "      <td>171.2</td>\n",
       "    </tr>\n",
       "    <tr>\n",
       "      <th>2022-05-24 13:59:25</th>\n",
       "      <td>181.0</td>\n",
       "    </tr>\n",
       "    <tr>\n",
       "      <th>2022-05-24 13:59:26</th>\n",
       "      <td>190.5</td>\n",
       "    </tr>\n",
       "    <tr>\n",
       "      <th>2022-05-24 13:59:27</th>\n",
       "      <td>190.8</td>\n",
       "    </tr>\n",
       "    <tr>\n",
       "      <th>2022-05-24 13:59:28</th>\n",
       "      <td>186.2</td>\n",
       "    </tr>\n",
       "    <tr>\n",
       "      <th>2022-05-24 13:59:29</th>\n",
       "      <td>182.2</td>\n",
       "    </tr>\n",
       "    <tr>\n",
       "      <th>2022-05-24 13:59:30</th>\n",
       "      <td>179.2</td>\n",
       "    </tr>\n",
       "    <tr>\n",
       "      <th>2022-05-24 13:59:31</th>\n",
       "      <td>178.0</td>\n",
       "    </tr>\n",
       "    <tr>\n",
       "      <th>2022-05-24 13:59:32</th>\n",
       "      <td>163.5</td>\n",
       "    </tr>\n",
       "    <tr>\n",
       "      <th>2022-05-24 13:59:33</th>\n",
       "      <td>163.8</td>\n",
       "    </tr>\n",
       "    <tr>\n",
       "      <th>2022-05-24 13:59:34</th>\n",
       "      <td>163.0</td>\n",
       "    </tr>\n",
       "    <tr>\n",
       "      <th>2022-05-24 13:59:35</th>\n",
       "      <td>155.2</td>\n",
       "    </tr>\n",
       "    <tr>\n",
       "      <th>2022-05-24 13:59:36</th>\n",
       "      <td>157.5</td>\n",
       "    </tr>\n",
       "    <tr>\n",
       "      <th>2022-05-24 13:59:37</th>\n",
       "      <td>158.6</td>\n",
       "    </tr>\n",
       "    <tr>\n",
       "      <th>2022-05-24 13:59:38</th>\n",
       "      <td>153.4</td>\n",
       "    </tr>\n",
       "    <tr>\n",
       "      <th>2022-05-24 13:59:39</th>\n",
       "      <td>154.6</td>\n",
       "    </tr>\n",
       "    <tr>\n",
       "      <th>2022-05-24 13:59:40</th>\n",
       "      <td>143.0</td>\n",
       "    </tr>\n",
       "    <tr>\n",
       "      <th>2022-05-24 13:59:41</th>\n",
       "      <td>138.0</td>\n",
       "    </tr>\n",
       "    <tr>\n",
       "      <th>2022-05-24 13:59:42</th>\n",
       "      <td>132.8</td>\n",
       "    </tr>\n",
       "    <tr>\n",
       "      <th>2022-05-24 13:59:43</th>\n",
       "      <td>135.8</td>\n",
       "    </tr>\n",
       "    <tr>\n",
       "      <th>2022-05-24 13:59:44</th>\n",
       "      <td>145.5</td>\n",
       "    </tr>\n",
       "    <tr>\n",
       "      <th>2022-05-24 13:59:45</th>\n",
       "      <td>154.0</td>\n",
       "    </tr>\n",
       "    <tr>\n",
       "      <th>2022-05-24 13:59:46</th>\n",
       "      <td>163.1</td>\n",
       "    </tr>\n",
       "    <tr>\n",
       "      <th>2022-05-24 13:59:47</th>\n",
       "      <td>173.9</td>\n",
       "    </tr>\n",
       "    <tr>\n",
       "      <th>2022-05-24 13:59:48</th>\n",
       "      <td>182.6</td>\n",
       "    </tr>\n",
       "    <tr>\n",
       "      <th>2022-05-24 13:59:49</th>\n",
       "      <td>194.8</td>\n",
       "    </tr>\n",
       "    <tr>\n",
       "      <th>2022-05-24 13:59:50</th>\n",
       "      <td>188.5</td>\n",
       "    </tr>\n",
       "    <tr>\n",
       "      <th>2022-05-24 13:59:51</th>\n",
       "      <td>182.0</td>\n",
       "    </tr>\n",
       "    <tr>\n",
       "      <th>2022-05-24 13:59:52</th>\n",
       "      <td>176.2</td>\n",
       "    </tr>\n",
       "    <tr>\n",
       "      <th>2022-05-24 13:59:53</th>\n",
       "      <td>168.5</td>\n",
       "    </tr>\n",
       "    <tr>\n",
       "      <th>2022-05-24 13:59:54</th>\n",
       "      <td>168.4</td>\n",
       "    </tr>\n",
       "    <tr>\n",
       "      <th>2022-05-24 13:59:55</th>\n",
       "      <td>155.8</td>\n",
       "    </tr>\n",
       "    <tr>\n",
       "      <th>2022-05-24 13:59:56</th>\n",
       "      <td>149.8</td>\n",
       "    </tr>\n",
       "    <tr>\n",
       "      <th>2022-05-24 13:59:57</th>\n",
       "      <td>141.0</td>\n",
       "    </tr>\n",
       "    <tr>\n",
       "      <th>2022-05-24 13:59:58</th>\n",
       "      <td>132.6</td>\n",
       "    </tr>\n",
       "    <tr>\n",
       "      <th>2022-05-24 13:59:59</th>\n",
       "      <td>136.0</td>\n",
       "    </tr>\n",
       "  </tbody>\n",
       "</table>\n",
       "</div>"
      ],
      "text/plain": [
       "                     power\n",
       "datetime                  \n",
       "2022-05-24 13:59:00  195.9\n",
       "2022-05-24 13:59:01  192.8\n",
       "2022-05-24 13:59:02  189.1\n",
       "2022-05-24 13:59:03  193.5\n",
       "2022-05-24 13:59:04  184.0\n",
       "2022-05-24 13:59:05  195.8\n",
       "2022-05-24 13:59:06  194.6\n",
       "2022-05-24 13:59:07  195.5\n",
       "2022-05-24 13:59:08  197.0\n",
       "2022-05-24 13:59:09  197.2\n",
       "2022-05-24 13:59:10  196.0\n",
       "2022-05-24 13:59:11  195.1\n",
       "2022-05-24 13:59:12  193.9\n",
       "2022-05-24 13:59:13  193.8\n",
       "2022-05-24 13:59:14  195.2\n",
       "2022-05-24 13:59:15  196.2\n",
       "2022-05-24 13:59:16  197.2\n",
       "2022-05-24 13:59:17  195.5\n",
       "2022-05-24 13:59:18  196.8\n",
       "2022-05-24 13:59:19  197.8\n",
       "2022-05-24 13:59:20  196.8\n",
       "2022-05-24 13:59:21  184.0\n",
       "2022-05-24 13:59:22  181.0\n",
       "2022-05-24 13:59:23  172.1\n",
       "2022-05-24 13:59:24  171.2\n",
       "2022-05-24 13:59:25  181.0\n",
       "2022-05-24 13:59:26  190.5\n",
       "2022-05-24 13:59:27  190.8\n",
       "2022-05-24 13:59:28  186.2\n",
       "2022-05-24 13:59:29  182.2\n",
       "2022-05-24 13:59:30  179.2\n",
       "2022-05-24 13:59:31  178.0\n",
       "2022-05-24 13:59:32  163.5\n",
       "2022-05-24 13:59:33  163.8\n",
       "2022-05-24 13:59:34  163.0\n",
       "2022-05-24 13:59:35  155.2\n",
       "2022-05-24 13:59:36  157.5\n",
       "2022-05-24 13:59:37  158.6\n",
       "2022-05-24 13:59:38  153.4\n",
       "2022-05-24 13:59:39  154.6\n",
       "2022-05-24 13:59:40  143.0\n",
       "2022-05-24 13:59:41  138.0\n",
       "2022-05-24 13:59:42  132.8\n",
       "2022-05-24 13:59:43  135.8\n",
       "2022-05-24 13:59:44  145.5\n",
       "2022-05-24 13:59:45  154.0\n",
       "2022-05-24 13:59:46  163.1\n",
       "2022-05-24 13:59:47  173.9\n",
       "2022-05-24 13:59:48  182.6\n",
       "2022-05-24 13:59:49  194.8\n",
       "2022-05-24 13:59:50  188.5\n",
       "2022-05-24 13:59:51  182.0\n",
       "2022-05-24 13:59:52  176.2\n",
       "2022-05-24 13:59:53  168.5\n",
       "2022-05-24 13:59:54  168.4\n",
       "2022-05-24 13:59:55  155.8\n",
       "2022-05-24 13:59:56  149.8\n",
       "2022-05-24 13:59:57  141.0\n",
       "2022-05-24 13:59:58  132.6\n",
       "2022-05-24 13:59:59  136.0"
      ]
     },
     "execution_count": 58,
     "metadata": {},
     "output_type": "execute_result"
    }
   ],
   "source": [
    "df.loc[\"24-05-2022 13:59\"]"
   ]
  },
  {
   "cell_type": "code",
   "execution_count": null,
   "id": "c583eb76",
   "metadata": {},
   "outputs": [],
   "source": []
  }
 ],
 "metadata": {
  "kernelspec": {
   "display_name": "Python 3 (ipykernel)",
   "language": "python",
   "name": "python3"
  },
  "language_info": {
   "codemirror_mode": {
    "name": "ipython",
    "version": 3
   },
   "file_extension": ".py",
   "mimetype": "text/x-python",
   "name": "python",
   "nbconvert_exporter": "python",
   "pygments_lexer": "ipython3",
   "version": "3.9.7"
  }
 },
 "nbformat": 4,
 "nbformat_minor": 5
}
